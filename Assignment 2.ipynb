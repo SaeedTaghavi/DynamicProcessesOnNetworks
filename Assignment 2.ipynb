{
 "cells": [
  {
   "cell_type": "markdown",
   "metadata": {
    "deletable": true,
    "editable": true
   },
   "source": [
    "modifications since placed online:\n",
    "\n",
    "- In 3.a.vi, changed $c_i(t)$ to $\\alpha_i(t)$.\n",
    "\n",
    "- **This change is only a comment and does not affect any of the work you are asked to do**: added paragraph after last problem about the fact that the prediction is valid for all time, not just large time. \n",
    "\n",
    "\n",
    "# Assignment 2"
   ]
  },
  {
   "cell_type": "markdown",
   "metadata": {
    "collapsed": true,
    "deletable": true,
    "editable": true
   },
   "source": []
  },
  {
   "cell_type": "markdown",
   "metadata": {
    "deletable": true,
    "editable": true
   },
   "source": [
    "## Question 1:\n",
    "\n",
    "In this question we will explore some properties of Configuration Model and Erdős–Rényi networks.\n",
    "\n",
    "In this problem it will be useful to set up a loop that runs until a list gets to a certain length.  Here is an example of how this can be done:"
   ]
  },
  {
   "cell_type": "code",
   "execution_count": 1,
   "metadata": {
    "collapsed": true,
    "deletable": true,
    "editable": true
   },
   "outputs": [],
   "source": [
    "import random\n",
    "\n",
    "L = []\n",
    "while len(L)<1000:          #this loop gives some hints of how one \n",
    "    if random.random()<0.5: #might repeat until 1000 objects have been\n",
    "        L.append(1)         #found\n"
   ]
  },
  {
   "cell_type": "markdown",
   "metadata": {
    "deletable": true,
    "editable": true
   },
   "source": [
    "### Part a)\n",
    "#### i)\n",
    "Use the built-in networkx command to create a Configuration Model network with $N=100$,$000$ nodes, with half having degree $5$, and the other half having degree $10$."
   ]
  },
  {
   "cell_type": "code",
   "execution_count": null,
   "metadata": {
    "collapsed": true,
    "deletable": true,
    "editable": true
   },
   "outputs": [],
   "source": []
  },
  {
   "cell_type": "markdown",
   "metadata": {
    "deletable": true,
    "editable": true
   },
   "source": [
    "#### ii)\n",
    "Choose 1000 nodes at random from the network and create a histogram of their degrees.  Use the `plt.hist` command, and set `density = True`."
   ]
  },
  {
   "cell_type": "code",
   "execution_count": null,
   "metadata": {
    "collapsed": true,
    "deletable": true,
    "editable": true
   },
   "outputs": [],
   "source": []
  },
  {
   "cell_type": "markdown",
   "metadata": {
    "deletable": true,
    "editable": true
   },
   "source": [
    "#### iii)\n",
    "Choose nodes $v_i$ at random from the graph and then choose a neighbor $w_i$ (at random).  Repeat until $1000$ nodes $w_i$ have been chosen.   Then create a histogram of the degrees of the $w_i$.  Use the `plt.hist` command, and set `density = True`.\n"
   ]
  },
  {
   "cell_type": "code",
   "execution_count": null,
   "metadata": {
    "collapsed": true,
    "deletable": true,
    "editable": true
   },
   "outputs": [],
   "source": []
  },
  {
   "cell_type": "markdown",
   "metadata": {
    "deletable": true,
    "editable": true
   },
   "source": [
    "#### iv)\n",
    "Explain the differences between the two histograms."
   ]
  },
  {
   "cell_type": "markdown",
   "metadata": {
    "deletable": true,
    "editable": true
   },
   "source": []
  },
  {
   "cell_type": "markdown",
   "metadata": {
    "deletable": true,
    "editable": true
   },
   "source": [
    "### Part b)\n",
    "\n",
    "Use one of the built-in networkx commands to create an Erdős–Rényi network with $N=100$,$000$ nodes and average degree $4$.  "
   ]
  },
  {
   "cell_type": "code",
   "execution_count": null,
   "metadata": {
    "collapsed": true,
    "deletable": true,
    "editable": true
   },
   "outputs": [],
   "source": []
  },
  {
   "cell_type": "markdown",
   "metadata": {
    "deletable": true,
    "editable": true
   },
   "source": [
    "#### i)\n",
    "Choose 1000 nodes at random from the network and create a histogram of their degrees.\n"
   ]
  },
  {
   "cell_type": "code",
   "execution_count": null,
   "metadata": {
    "collapsed": true,
    "deletable": true,
    "editable": true
   },
   "outputs": [],
   "source": []
  },
  {
   "cell_type": "markdown",
   "metadata": {
    "deletable": true,
    "editable": true
   },
   "source": [
    "#### ii)\n",
    "Choose nodes $v_i$ at random from the graph and if it has non-zero degree, choose a neighbor $w_i$ (at random).  Repeat until $1000$ of the $w_i$ have been chosen   Then create a histogram of their degrees (with bin width 1)."
   ]
  },
  {
   "cell_type": "code",
   "execution_count": null,
   "metadata": {
    "collapsed": true,
    "deletable": true,
    "editable": true
   },
   "outputs": [],
   "source": []
  },
  {
   "cell_type": "markdown",
   "metadata": {
    "deletable": true,
    "editable": true
   },
   "source": [
    "#### iii)\n",
    "How are these two histograms similar?"
   ]
  },
  {
   "cell_type": "markdown",
   "metadata": {
    "deletable": true,
    "editable": true
   },
   "source": []
  },
  {
   "cell_type": "markdown",
   "metadata": {
    "deletable": true,
    "editable": true
   },
   "source": [
    "#### iv) \n",
    "When the average degree is small compared to the number of nodes, Erdős–Rényi networks have a Poisson degree distribution.  So the probability of a degree $k$ given an average $r$ is $r^k e^{-r}/k!$ .  Use this to show that the similarity you observed in the histograms is to be expected."
   ]
  },
  {
   "cell_type": "markdown",
   "metadata": {
    "deletable": true,
    "editable": true
   },
   "source": []
  },
  {
   "cell_type": "markdown",
   "metadata": {
    "deletable": true,
    "editable": true
   },
   "source": [
    "## Question 2:\n",
    "\n",
    "The following function will generate a Configuration Model network of $N$ nodes, with a fraction $p$ of the nodes having degree $3$ and the rest having degree $1$."
   ]
  },
  {
   "cell_type": "code",
   "execution_count": null,
   "metadata": {
    "collapsed": true,
    "deletable": true,
    "editable": true
   },
   "outputs": [],
   "source": [
    "import networkx as nx\n",
    "import random\n",
    "\n",
    "def generate_degree_3_and_1_CM_network(N, p):\n",
    "    r'''\n",
    "    Inputs:\n",
    "    N : integer, the number of nodes.  Must be even\n",
    "    p : probability between 0 and 1.\n",
    "    \n",
    "    Returns:\n",
    "    G : Configuration Model Graph\n",
    "    '''\n",
    "    \n",
    "    if N%2 !=0:\n",
    "        raise ValueError(\"N must be even\")\n",
    "    M = int(N*p)\n",
    "    deg_dist = [3]*M + [1]*(N-M)\n",
    "    random.shuffle(deg_dist) #this shuffles the degree distribution.  It\n",
    "                             #is included here purely so that there is\n",
    "                             #no correlation between the node id and its\n",
    "                             #degree\n",
    "    G = nx.configuration_model(deg_dist)\n",
    "    return G\n",
    "    \n",
    "    "
   ]
  },
  {
   "cell_type": "markdown",
   "metadata": {
    "deletable": true,
    "editable": true
   },
   "source": [
    "A \"Connected Component\" of a graph is a maximal connected subset of the nodes.  The proportion of nodes in the largest connected component of a graph `G` is given by \n",
    "\n",
    "`max(len(CC) for CC in nx.connected_components(G))/G.order()`\n",
    "\n",
    "#### i) \n",
    "Set $N=1000$ and generate graphs `G` using the function above for each $p$ from $0$ to $1$ by steps of size $0.01$  [e.g., `for p in np.linspace(0,1,101):`].  Plot the proportion of `G`'s nodes which are in the largest connected component.  Repeat for $N=5000$ and $N=10000$ on the same plot.\n"
   ]
  },
  {
   "cell_type": "code",
   "execution_count": null,
   "metadata": {
    "collapsed": true,
    "deletable": true,
    "editable": true
   },
   "outputs": [],
   "source": []
  },
  {
   "cell_type": "markdown",
   "metadata": {
    "deletable": true,
    "editable": true
   },
   "source": [
    "\n",
    "#### ii)\n",
    "There should be a threshold value of $p$ where behavior changes.  In light of what you learned in the previous problem, explain why this threshold is where it is.\n"
   ]
  },
  {
   "cell_type": "markdown",
   "metadata": {
    "deletable": true,
    "editable": true
   },
   "source": []
  },
  {
   "cell_type": "markdown",
   "metadata": {
    "deletable": true,
    "editable": true
   },
   "source": [
    "## Question 3:"
   ]
  },
  {
   "cell_type": "markdown",
   "metadata": {
    "deletable": true,
    "editable": true
   },
   "source": [
    "In lecture we looked at coupled oscillators with identical natural frequency on a connected graph.  Under the assumption that their phases are initially close together, we showed that they should converge to exactly the same phase.\n",
    "\n",
    "In this question we will consider what happens when the coupled oscillators have similar but not identical natural frequencies, and under the assumption that the phases stay close together."
   ]
  },
  {
   "cell_type": "markdown",
   "metadata": {
    "deletable": true,
    "editable": true
   },
   "source": [
    "### Part a)\n",
    "#### i)\n",
    "Starting from the model equation for $j = 0, 1, \\ldots, N-1$ nodes:\n",
    "\\begin{equation*}\n",
    "\\frac{d}{dt} \\phi_j(t) = \\omega_j + c \\sum_{k: \\{k,j\\}\\text{ is an edge}} \\sin(\\phi_k(t) - \\phi_j(t))\n",
    "\\end{equation*}\n",
    "Set $\\overline{\\omega} = \\sum \\omega_j /N$.  Show that by setting $\\hat{\\phi}_j(t) = \\phi_j(t) - \\overline{\\omega} t$ and $\\hat{\\omega}_j = \\omega_j - \\overline{\\omega}$ we arrive at the model\n",
    "\\begin{equation*}\n",
    "\\frac{d}{dt} \\hat{\\phi}_j(t) = \\hat{\\omega}_j + c \\sum_{k: \\{k,j\\}\\text{ is an edge}} \\sin(\\hat{\\phi}_k(t) - \\hat{\\phi}_j(t))\n",
    "\\end{equation*}\n",
    "where now $\\hat{\\omega}_j$ has average $0$."
   ]
  },
  {
   "cell_type": "markdown",
   "metadata": {
    "deletable": true,
    "editable": true
   },
   "source": []
  },
  {
   "cell_type": "markdown",
   "metadata": {
    "deletable": true,
    "editable": true
   },
   "source": [
    "#### ii)\n",
    "Now drop the hats and explain why if the phases are all close together, we can assume the equations are can be written in vector form as approximately\n",
    "\\begin{equation*}\n",
    "\\frac{d}{dt} \\vec{\\phi}(t) = \\vec{\\omega} - c L \\vec{\\phi}(t)\n",
    "\\end{equation*}\n",
    "Where the matrix $L = D-A$ where $D$ is the diagonal matrix whose entry $D_{ii}$ is the degree of node $i$ and $A$ is the adjacency matrix.  The matrix $L$ is known as the **Laplacian of `G`**.  In the lectures we used $A-D$ in place of $-L$."
   ]
  },
  {
   "cell_type": "markdown",
   "metadata": {
    "deletable": true,
    "editable": true
   },
   "source": []
  },
  {
   "cell_type": "markdown",
   "metadata": {
    "deletable": true,
    "editable": true
   },
   "source": [
    "#### iii)\n",
    "\n",
    "Show that for a connected graph `G`, the Laplacian `L` is real and symmetric.  This guarantees that each eigenector of `L` is real and has a full eigenspace (and that the eigenvectors are orthogonal).\n"
   ]
  },
  {
   "cell_type": "markdown",
   "metadata": {
    "deletable": true,
    "editable": true
   },
   "source": []
  },
  {
   "cell_type": "markdown",
   "metadata": {
    "deletable": true,
    "editable": true
   },
   "source": [
    "#### iv)\n",
    "Let $r_0, r_1, \\ldots, r_{N-1}$ be the eigenvalues of $L$ and $\\vec{w}_0, \\vec{w}_1, \\ldots, \\vec{w}_{N-1}$ be the corresponding eigenvectors.\n",
    "\n",
    "Explain why we know that we can write\n",
    "\\begin{equation*}\n",
    "\\vec{\\phi}(t) = \\sum \\alpha_i(t) \\vec{w}_i\n",
    "\\end{equation*}\n",
    "and \n",
    "\\begin{equation*}\n",
    "\\vec{\\omega} = \\sum \\beta_i \\vec{w}_i\n",
    "\\end{equation*}\n"
   ]
  },
  {
   "cell_type": "code",
   "execution_count": null,
   "metadata": {
    "collapsed": true,
    "deletable": true,
    "editable": true
   },
   "outputs": [],
   "source": []
  },
  {
   "cell_type": "markdown",
   "metadata": {
    "deletable": true,
    "editable": true
   },
   "source": [
    "#### v)\n",
    "Show that $L$ has an eigenvalue equal to zero, which we take to be $r_0$.  Additionally (you do not need to prove this), the Perron-Frobenius theorem can be used with a few twists to show that the zero eigenvalue is simple and all others have positive real part.\n"
   ]
  },
  {
   "cell_type": "markdown",
   "metadata": {
    "deletable": true,
    "editable": true
   },
   "source": [
    "#### vi)\n",
    "\n",
    "Rewrite the vector equation for $d \\vec{\\phi}(t) /dt$ above in terms of sums of eigenvectors of $L$, and find a differential equation for $\\alpha_i(t)$.  Find the solution for $\\alpha_i(t)$ in the case that $r_0=0$ and in the case that $r_i \\neq 0$ (this second case may require integrating factors or other techniques).  \n"
   ]
  },
  {
   "cell_type": "markdown",
   "metadata": {
    "deletable": true,
    "editable": true
   },
   "source": []
  },
  {
   "cell_type": "markdown",
   "metadata": {
    "deletable": true,
    "editable": true
   },
   "source": [
    "#### vii)\n",
    "Show that for $r_i \\neq 0$, the solution $\\alpha_i(t)$ approaches a constant as $t \\to \\infty$, and find the constant value in terms of $\\beta_i$.\n",
    "\n"
   ]
  },
  {
   "cell_type": "markdown",
   "metadata": {
    "deletable": true,
    "editable": true
   },
   "source": [
    "#### viii)\n",
    "I do not ask you to show it, but you can assume that for the eigenvalue $r_0=0$, \n",
    "- the coefficient $\\beta_0$ is $0$ and \n",
    "- $\\alpha_0(t)$ is constant and equals the average of $\\phi_i(0)$.\n",
    "\n",
    "Using this and your previous answer, write down the long-term phase vector $\\lim_{t\\to\\infty} \\vec{\\phi}(t)$ as a function of the $\\beta_i$ for $i \\neq 0$ and the constant $\\alpha_0$."
   ]
  },
  {
   "cell_type": "markdown",
   "metadata": {
    "deletable": true,
    "editable": true
   },
   "source": [
    "### Part b)\n",
    "\n",
    "Now we check our predictions.  The functions below will take a graph `G` and some initial conditions and solve the Kuramoto model.  These are (almost) identical to what was presented in the lecture, except that I have change the function `display_phases` to `plot_phases`, and you now need to include `plt.show()` to actually make the plots show."
   ]
  },
  {
   "cell_type": "code",
   "execution_count": 2,
   "metadata": {
    "collapsed": true,
    "deletable": true,
    "editable": true
   },
   "outputs": [],
   "source": [
    "import networkx as nx\n",
    "import scipy.integrate as integrate\n",
    "import numpy as np\n",
    "import matplotlib.pyplot as plt\n",
    "import scipy\n",
    "import random\n",
    "\n",
    "#First some things that will be needed to find the derivatives.\n",
    "\n",
    "def phase_deriv(node, X, G, frequencies, c):\n",
    "    #calculates the derivative of the phase of `node` given the current state\n",
    "    \n",
    "    if nx.is_directed(G):  #behaves differently if graph is directed\n",
    "        phase_differences = [(X[pred] - X[node]) for pred in G.predecessors(node)]\n",
    "    else:\n",
    "        phase_differences = [(X[neighbor] - X[node]) for neighbor in G.neighbors(node)]\n",
    "    sin_phase_diff = np.sin(np.array(phase_differences))\n",
    "    #sin_phase_diff = map(lambda x: scipy.sin(2*scipy.pi*x), phase_differences)\n",
    "    Y = sin_phase_diff.sum()\n",
    "    return frequencies[node] + c*Y\n",
    "\n",
    "\n",
    "def dphase_dt(X, t, G, frequencies, c):  \n",
    "    #uses phase_deriv to find the derivative of phases of all nodes.\n",
    "    dXdt = np.array([phase_deriv(node, X, G, frequencies, c) for node in G.nodes()])\n",
    "    return dXdt\n",
    "\n",
    "\n",
    "def solve_model(G, tstop, c = 1, initial_phase = None, natural_frequencies = None, ntimes = 1001):\n",
    "    r'''\n",
    "    The arguments of this function are:\n",
    "    \n",
    "    G  - a networkx Graph or a DiGraph\n",
    "    \n",
    "    tstop   - final time of simulation (assumes that it starts at 0)\n",
    "    \n",
    "    c   - an optional argument for the coupling strength, it defaults to 1.\n",
    "    \n",
    "    initial_phase - an optional argument giving the initial_phase of all nodes.  \n",
    "                    Input as a dict.  It defaults to random values in (0, 2pi) for each node\n",
    "                    \n",
    "    natural_frequencies - an optional argument giving the natural frequencies of all nodes.\n",
    "                    Input as a dict.  It defaults to random values in -0.5, 0.5\n",
    "    \n",
    "    ntimes - an integer stating how many points between 0 and tstop should be returned.\n",
    "                    \n",
    "                    \n",
    "                    \n",
    "    the function returns:\n",
    "    times - an np array of times\n",
    "    X  - a 2d np array giving the oscillator phase of each node at each time in times.'''\n",
    "    \n",
    "    nodelist = list(G.nodes())\n",
    "    if natural_frequencies is None:\n",
    "        frequencies =[-0.5+np.random.random() for node in nodelist] \n",
    "    else:\n",
    "        frequencies = [natural_frequencies[node] for node in nodelist]\n",
    "    if initial_phase is None:\n",
    "        phase0 = np.array([np.random.random()*2*np.pi for node in nodelist])\n",
    "    else:\n",
    "        phase0 = np.array([initial_phase[node] for node in nodelist])\n",
    "    times = np.linspace(0, tstop, ntimes)\n",
    "    X = integrate.odeint(dphase_dt, phase0, times, args = (G, frequencies, c))\n",
    "    \n",
    "    return times, X\n",
    "        \n",
    "def plot_phases(times, X, start_time = None, stop_time = None):\n",
    "    r''' \n",
    "    \n",
    "    Code for displaying the phases of the oscillators.  \n",
    "    \n",
    "    Arguments\n",
    "    ---------\n",
    "    \n",
    "    times - the times returned by solve_model\n",
    "    X - the phases returned by solve_model\n",
    "    \n",
    "    optional Arguments\n",
    "    ------------------\n",
    "    start_time   - the time to start the plots at.    default to initial time\n",
    "    stop_time    - the time to stop the plots at.    default to final time'''\n",
    "    \n",
    "    if start_time is None:\n",
    "        start_index =0\n",
    "    elif start_time>times[-1]:\n",
    "        raise ValueError(\"start_time is greater than times[-1]\")\n",
    "    else:\n",
    "        start_index = np.argmax(times>=start_time)\n",
    "    if stop_time is None:\n",
    "        stop_index = len(times)-1\n",
    "    elif stop_time < times[0]:\n",
    "        raise ValueError(\"stop_time is less than times[0]\")\n",
    "    else:\n",
    "        stop_index = np.argmax(times>= stop_time)\n",
    "    if start_index>stop_index:\n",
    "        raise ValueError(\"start_time > stop_time\")\n",
    "        \n",
    "    plt.clf()\n",
    "    for node in G.nodes():\n",
    "        x = times[start_index:stop_index]\n",
    "        y = X[start_index:stop_index, node]%(2*np.pi)\n",
    "        \n",
    "        #when we mod out by 2pi, we introduce discontinuities (where it crosses the top a\n",
    "        #re-enters on the bottom).  These next commands prevent matplotlib from putting vertical\n",
    "        #lines at those points.\n",
    "        jumppos = np.where(np.abs(np.diff(y)) >= 1.5*np.pi)[0]+1\n",
    "        x = np.insert(x, jumppos, np.nan)\n",
    "        y = np.insert(y, jumppos, np.nan)\n",
    "        plt.plot(x,y)\n",
    "    plt.xlabel('times')\n",
    "    plt.ylabel('phases')\n"
   ]
  },
  {
   "cell_type": "markdown",
   "metadata": {
    "deletable": true,
    "editable": true
   },
   "source": [
    "#### i)\n",
    "- Define `G` to be an Erdős–Rényi network of 100 nodes and average degree 2.\n"
   ]
  },
  {
   "cell_type": "code",
   "execution_count": null,
   "metadata": {
    "collapsed": true,
    "deletable": true,
    "editable": true
   },
   "outputs": [],
   "source": []
  },
  {
   "cell_type": "markdown",
   "metadata": {
    "collapsed": true,
    "deletable": true,
    "editable": true
   },
   "source": [
    "- Restrict your attention to the largest connected component of `G` and rename `G` to this component.  This is done with these commands:\n"
   ]
  },
  {
   "cell_type": "code",
   "execution_count": null,
   "metadata": {
    "collapsed": true,
    "deletable": true,
    "editable": true
   },
   "outputs": [],
   "source": [
    "largest_component = max(nx.connected_components(G), key = len)\n",
    "G = nx.Graph(nx.induced_subgraph(G,largest_component))\n",
    "G = nx.convert_node_labels_to_integers(G)"
   ]
  },
  {
   "cell_type": "markdown",
   "metadata": {
    "deletable": true,
    "editable": true
   },
   "source": [
    "- Set "
   ]
  },
  {
   "cell_type": "code",
   "execution_count": null,
   "metadata": {
    "collapsed": true,
    "deletable": true,
    "editable": true
   },
   "outputs": [],
   "source": [
    "initial_phase = {node:np.pi+0.2*random.random() for node in G.nodes()}\n",
    "natural_frequencies = {node:random.random() for node in G.nodes()}"
   ]
  },
  {
   "cell_type": "markdown",
   "metadata": {
    "deletable": true,
    "editable": true
   },
   "source": [
    "#### ii)\n",
    "\n",
    "Redefine `natural_frequencies` (which corresponds to $\\vec{\\omega}$) by performing the change of variables in step i of part a."
   ]
  },
  {
   "cell_type": "code",
   "execution_count": null,
   "metadata": {
    "collapsed": true,
    "deletable": true,
    "editable": true
   },
   "outputs": [],
   "source": []
  },
  {
   "cell_type": "markdown",
   "metadata": {
    "deletable": true,
    "editable": true
   },
   "source": [
    "#### iii)\n",
    "Set times and X to be the outputs from running the model with initial_phase and natural_frequencies for the graph G for 30 units of time with c=4."
   ]
  },
  {
   "cell_type": "code",
   "execution_count": null,
   "metadata": {
    "collapsed": true,
    "deletable": true,
    "editable": true
   },
   "outputs": [],
   "source": []
  },
  {
   "cell_type": "markdown",
   "metadata": {
    "deletable": true,
    "editable": true
   },
   "source": [
    "#### iv)\n",
    "The following code generates `L`:\n",
    "\n"
   ]
  },
  {
   "cell_type": "code",
   "execution_count": null,
   "metadata": {
    "collapsed": false,
    "deletable": true,
    "editable": true
   },
   "outputs": [],
   "source": [
    "A = nx.to_numpy_matrix(G)\n",
    "\n",
    "d = []\n",
    "for node in range(G.order()):\n",
    "\n",
    "    d.append(G.degree(node))\n",
    "\n",
    "D = np.diag(d)\n",
    "\n",
    "\n",
    "L = D-A"
   ]
  },
  {
   "cell_type": "markdown",
   "metadata": {
    "deletable": true,
    "editable": true
   },
   "source": [
    "Use  \n",
    "\n"
   ]
  },
  {
   "cell_type": "code",
   "execution_count": null,
   "metadata": {
    "collapsed": true,
    "deletable": true,
    "editable": true
   },
   "outputs": [],
   "source": [
    "R, W = scipy.linalg.eig(L)"
   ]
  },
  {
   "cell_type": "markdown",
   "metadata": {
    "deletable": true,
    "editable": true
   },
   "source": [
    "to find a vector of the eigenvalues R and a matrix of the corresponding eigenvectors W. Each column of W is the eigenvector for the corresponding entry of the eigenvalue in R.\n",
    "\n",
    "`W` and `R` are real, but numpy stores them as complex numbers (with machine precision level imaginary parts).  Let's convert them to reals.\n",
    "\n"
   ]
  },
  {
   "cell_type": "code",
   "execution_count": null,
   "metadata": {
    "collapsed": true,
    "deletable": true,
    "editable": true
   },
   "outputs": [],
   "source": [
    "W = np.real(W)\n",
    "R = np.real(R)"
   ]
  },
  {
   "cell_type": "markdown",
   "metadata": {
    "deletable": true,
    "editable": true
   },
   "source": [
    "You can find the coefficients $\\beta_i$ by"
   ]
  },
  {
   "cell_type": "code",
   "execution_count": null,
   "metadata": {
    "collapsed": true,
    "deletable": true,
    "editable": true
   },
   "outputs": [],
   "source": [
    "Omegas = np.array([natural_frequencies[node] for node in range(G.order())])\n",
    "Betas = np.linalg.solve(W, Omegas)\n"
   ]
  },
  {
   "cell_type": "markdown",
   "metadata": {
    "deletable": true,
    "editable": true
   },
   "source": [
    "Use this information to calculate your expression in step viii of Part a, saving it in a vector named `prediction`."
   ]
  },
  {
   "cell_type": "code",
   "execution_count": null,
   "metadata": {
    "collapsed": false,
    "deletable": true,
    "editable": true
   },
   "outputs": [],
   "source": [
    "\n"
   ]
  },
  {
   "cell_type": "markdown",
   "metadata": {
    "deletable": true,
    "editable": true
   },
   "source": [
    "#### v)\n",
    "\n",
    "Now plot your phases (without displaying them) using `plot_phases`"
   ]
  },
  {
   "cell_type": "code",
   "execution_count": null,
   "metadata": {
    "collapsed": true,
    "deletable": true,
    "editable": true
   },
   "outputs": [],
   "source": []
  },
  {
   "cell_type": "markdown",
   "metadata": {
    "deletable": true,
    "editable": true
   },
   "source": [
    "and use"
   ]
  },
  {
   "cell_type": "code",
   "execution_count": null,
   "metadata": {
    "collapsed": true,
    "deletable": true,
    "editable": true
   },
   "outputs": [],
   "source": [
    "plt.plot([40]*G.order(), prediction, '.')\n",
    "plt.show()"
   ]
  },
  {
   "cell_type": "markdown",
   "metadata": {
    "deletable": true,
    "editable": true
   },
   "source": [
    "To plot your predictions as dots at time $40$.\n",
    "\n",
    "Are these a reasonable fit (perhaps shifted vertically a small amount)?"
   ]
  },
  {
   "cell_type": "markdown",
   "metadata": {
    "deletable": true,
    "editable": true
   },
   "source": []
  },
  {
   "cell_type": "markdown",
   "metadata": {
    "deletable": true,
    "editable": true
   },
   "source": [
    "In fact, our prediction doesn't just tell us what happens for large times.  When we include the terms that decay as $t \\to \\infty$, we get a prediction about all time.  I haven't included that in this problem simply because it requires a little more technical effort to plot, but if you're interested you can probably work out how to plot the full time predictions and compare them with the true solutions."
   ]
  }
 ],
 "metadata": {
  "kernelspec": {
   "display_name": "Python 3",
   "language": "python",
   "name": "python3"
  },
  "language_info": {
   "codemirror_mode": {
    "name": "ipython",
    "version": 3
   },
   "file_extension": ".py",
   "mimetype": "text/x-python",
   "name": "python",
   "nbconvert_exporter": "python",
   "pygments_lexer": "ipython3",
   "version": "3.5.2"
  }
 },
 "nbformat": 4,
 "nbformat_minor": 2
}
