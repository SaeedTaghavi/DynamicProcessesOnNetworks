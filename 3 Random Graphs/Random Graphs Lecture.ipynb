{
 "cells": [
  {
   "cell_type": "markdown",
   "metadata": {
    "deletable": true,
    "editable": true
   },
   "source": [
    "Edits:\n",
    "- I've made a bunch of small edits improving the links to documentation and such.\n",
    "- I clarified that you don't need to be writing your own algorithm to generate these networks.\n",
    "- I added some images to help demonstrate the construction of Configuration Model Networks, and to help demonstrate the \"size biasing\" effect."
   ]
  },
  {
   "cell_type": "markdown",
   "metadata": {
    "deletable": true,
    "editable": true
   },
   "source": [
    "# Random Graphs\n",
    "\n"
   ]
  },
  {
   "cell_type": "markdown",
   "metadata": {
    "deletable": true,
    "editable": true
   },
   "source": [
    "So far we have looked at the PageRank algorithm.  The premise of PageRank and similar algorithms is that the structure of the network contains valuable information which the random surfer concept gives us access to.\n",
    "\n",
    "We're going to shift gears soon and look at other processes that happen on networks.  For these processes, we are going to hypothesize that what happens isn't strongly dependent on finer details of the global structure.  We are going to look at how much of these various processes can be explained by what happens on random networks.\n",
    "\n",
    "The underlying philosophy is that there may be some real-world emergent behavior we want to explain, and that the emergent behavior is robust for a large class of networks.  We are going to try to generate the simplest networks for which this emergent behavior exists.\n",
    "\n",
    "So we start with very simple networks.\n",
    "\n",
    "Networkx provides methods to produce each of these network classes, so **I am not asking you to** write code to produce these networks.  I am however going to give slowly decreasing amounts of guidance on how to use the networkx commands to generate and analyze these graphs.  The purpose of this is to get you practice finding commands and instructions on how to use them."
   ]
  },
  {
   "cell_type": "markdown",
   "metadata": {
    "deletable": true,
    "editable": true
   },
   "source": [
    "## The Erdős–Rényi network model\n",
    "\n",
    "In 1959 **Edgar Gilbert** introduced a network model for which there are $N$ nodes, and each pair of nodes has an edge with probability $p$.  This model is usually called the Erdős–Rényi network model.  It is sometimes referred to as $G(N,p)$.  \n",
    "\n",
    "That same year, Erdős and Rényi introduced a similar model for which there are $N$ nodes, and $m$ edges are added randomly to the network.  This is sometimes called the Erdős–Rényi network model  It is usually referred to as $G(N,m)$.\n",
    "\n",
    "We'll study $G(N,p)$, but we will also call it the Erdős–Rényi network model.  Here is sample code that will generate these, but networkx has better algorithms built in that you should use."
   ]
  },
  {
   "cell_type": "code",
   "execution_count": null,
   "metadata": {
    "collapsed": true,
    "deletable": true,
    "editable": true
   },
   "outputs": [],
   "source": [
    "import networkx as nx\n",
    "def my_ER_graph(N, p):\n",
    "    nodelist = list(range(N))\n",
    "    G = nx.Graph()\n",
    "    G.add_nodes_from(nodelist)\n",
    "    for node in nodelist:\n",
    "        for potential_neighbor in range(node+1, N):\n",
    "            if random.random()<p:\n",
    "                G.add_edge(node, potential_neighbor)\n",
    "    return G"
   ]
  },
  {
   "cell_type": "markdown",
   "metadata": {
    "deletable": true,
    "editable": true
   },
   "source": [
    "Networkx has several commands to generate these graphs.  The methods are a bit more sophisticated than the above:"
   ]
  },
  {
   "cell_type": "code",
   "execution_count": 1,
   "metadata": {
    "collapsed": true,
    "deletable": true,
    "editable": true
   },
   "outputs": [],
   "source": [
    "import networkx as nx\n",
    "N = 1000  #number of nodes\n",
    "p = 2/N   #edge probability\n",
    "\n",
    "G1 = nx.gnp_random_graph(N, p)\n",
    "G2 = nx.erdos_renyi_graph(N,p)\n",
    "G3 = nx.binomial_graph(N,p)\n",
    "G4 = nx.fast_gnp_random_graph(N,p)\n"
   ]
  },
  {
   "cell_type": "markdown",
   "metadata": {
    "deletable": true,
    "editable": true
   },
   "source": [
    "The implementation of the first three are (effectively) identical, and only exist because the graph is referred to by different names.  The fourth algorithm is much faster for cases in which $Np \\ll N^2$ (which is often true).\n",
    "\n",
    "Basically the first three look at each pair of nodes in the network and decide whether or not the pair will have an edge.  The number of steps these algorithms take are therefore proportional to the number of potential pairs in the population.  There are $\\binom{N}{2} = N(N-1)/2$ of these [think about why this should be true].  So if we increase $N$ by a factor of $10$, we are increasing the run time by a factor of about $100$.\n",
    "\n",
    "\n",
    "In contrast `nx.fast_gnp_random_graph` basically treats the pairs as ordered and does a single calculation to determine which pair will have the next edge.  It then gives that pair an edge and decides which will be the next pair.  So the run time is roughly proportional to the number of edges.  In this case, assuming that we keep the average degree the same, when we increase the number of nodes by a factor of $10$, the number of edges increases by about a factor of $10$.  So the run time only increases by a factor of $10$.  This makes a significant difference.\n"
   ]
  },
  {
   "cell_type": "markdown",
   "metadata": {
    "deletable": true,
    "editable": true
   },
   "source": [
    "### Properties of Erdős–Rényi networks"
   ]
  },
  {
   "cell_type": "markdown",
   "metadata": {
    "deletable": true,
    "editable": true
   },
   "source": [
    "The expected degree of a node in an Erdős–Rényi network is $p(N-1)$.  This is $p$ times the number of potential neighbors.\n",
    "\n",
    "This means that if we want to keep the same average degree, but let $N$ grow, we must decrease $p$."
   ]
  },
  {
   "cell_type": "markdown",
   "metadata": {
    "deletable": true,
    "editable": true
   },
   "source": [
    "##### Exercises with Erdős–Rényi networks\n",
    "\n",
    "###### 1\n",
    "\n",
    "[Sample code that does most of these steps is below.]\n",
    "\n",
    "Use one of the networkx commands to generate Erdős–Rényi networks for many different numbers of nodes $N$ and edge probabilities $p$.  Specifically, take\n",
    "\n",
    "- $N = 2^a$ for $a$ in `range(8,17)`\n",
    "- $p = k/N$ for $k$ in `k_list`, where `k_list = [0.5, 0.6, 0.7, 0.8, 0.9, 1, 1.1, 1.2, 1.3, 1.4, 1.5, 2, 4, 6]`\n",
    "\n",
    "For each network, find the size of the largest component.  To do this, use:\n",
    "\n",
    "`largest_component_size = max([len(CC) for CC in nx.connected_components(G)])`\n",
    "[I used a different version in the earlier notes because I was trying to avoid things like list comprehensions, which is what is inside the `max` command.  The version I used was deprecated in 2.4 so it didn't work for some of you, and I've added list comprehension to the tutorial so I'm happier to do it this way now]\n",
    "\n",
    "For each $N$, create a list, `proportion_list` such that each entry of `proportion_list` gives `largest_component_size/N` for the corresponding `k` in `k_list`.\n",
    "\n",
    "Comment on the outcome.  [focus on what happens near $k=1$]\n",
    "\n",
    "\n"
   ]
  },
  {
   "cell_type": "code",
   "execution_count": null,
   "metadata": {
    "collapsed": false,
    "deletable": true,
    "editable": true
   },
   "outputs": [],
   "source": [
    "import networkx as nx\n",
    "import matplotlib.pyplot as plt\n",
    "\n",
    "k_list = [0.5, 0.6, 0.7, 0.8, 0.9, 1, 1.1, 1.2, 1.3, 1.4, 1.5, 2, 4, 6]\n",
    "for a in range(8, 17):\n",
    "    N = 2**a\n",
    "    proportion_list = []\n",
    "    for k in k_list:\n",
    "        pass #fill in stuff here to generate networks and analyze them\n",
    "    plt.plot(k_list, proportion_list, label = N)\n",
    "plt.legend()\n",
    "plt.show()"
   ]
  },
  {
   "cell_type": "markdown",
   "metadata": {
    "deletable": true,
    "editable": true
   },
   "source": [
    "###### 2\n",
    "\n",
    "For the same values of $N$ as above, take $p = 2/N$.  \n",
    "\n",
    "Generate Erdős–Rényi networks for each $N$ with that $p$.\n",
    "\n",
    "You can use `Degs = [G.degree(node) for node in G.nodes()]` to create a list of degrees for the nodes in `G`.\n",
    "\n",
    "Use `plt.hist`  https://matplotlib.org/3.1.1/api/_as_gen/matplotlib.pyplot.hist.html\n",
    "to plot a histogram of the degrees for each $N$.  Set the optional arguments:\n",
    "- `bins = range(10)` \n",
    "- `histtype = 'step'`\n",
    "- `normed = True` #this tells it to normalize.  Depending on python version, this may give\n",
    "                  #an error in which case you should set `density=True` which is replacing\n",
    "                  #normed in more recent versions.\n",
    "\n",
    "Argue that a node's degree comes from a binomial distribution with N-1 and p.  [use Wikipedia or other source to see what a binomial distribution is if you are unfamiliar with it]\n",
    "\n",
    "Argue that as $N$ goes to infinity with $p=2/N$, the distribution of degrees should approach a Poisson with mean $2$.  [use Wikipedia or other source to see how a binomial distribution approaches a Poisson distribution]"
   ]
  },
  {
   "cell_type": "code",
   "execution_count": null,
   "metadata": {
    "collapsed": true,
    "deletable": true,
    "editable": true
   },
   "outputs": [],
   "source": [
    "plt.clf()\n",
    "\n",
    "for a in range(8, 17):\n",
    "    N = 2**a\n",
    "    p = 2/N\n",
    "    #You need to fill in some commands here to define a graph and calculate Degs.\n",
    "    plt.hist(Degs, bins = range(10), normed = True, histtype='step', label = '{}'.format(N))\n",
    "plt.legend(loc = 'upper right')\n",
    "plt.show()"
   ]
  },
  {
   "cell_type": "markdown",
   "metadata": {
    "deletable": true,
    "editable": true
   },
   "source": []
  },
  {
   "cell_type": "markdown",
   "metadata": {
    "deletable": true,
    "editable": true
   },
   "source": [
    "##### 3\n",
    "\n",
    "Take $p=5/N$.  Generate an Erdős–Rényi network for $N$ nodes where $N = 2^a$ for $a$ in `range(8,13)`.   \n",
    "\n",
    "Find the largest connected component using the following:\n",
    "\n",
    "`largest_component_nodes = max(nx.connected_components(G), key = len)`  \n",
    "`LC = G.subgraph(largest_component_nodes)`\n",
    "\n",
    "\n",
    "\n",
    "Use `nx.average_shortest_path_length(LC)` to find the average shortest path length between pairs of nodes in that component.  So this algorithm takes all pairs of nodes in the component, calculates the shortest path between them, and then takes the average over all pairs.\n",
    "\n",
    "Plot this as a function of $N$.\n",
    "\n",
    "Try $p = 0.5/N$, $0.9/N$, $1/N$, $1.1/N$, $2/N$, and $3/N$ as well.  Something interesting happens near an average degree of $1$, which you may have noticed already.\n",
    "\n",
    "If the average degree is larger than $1$, comment on how the path length in the largest component depends on $N$. \n",
    "\n"
   ]
  },
  {
   "cell_type": "code",
   "execution_count": null,
   "metadata": {
    "collapsed": true,
    "deletable": true,
    "editable": true
   },
   "outputs": [],
   "source": []
  },
  {
   "cell_type": "markdown",
   "metadata": {
    "deletable": true,
    "editable": true
   },
   "source": [
    "##### 4\n",
    "\n",
    "Without generating a network, assume $N$ and $p$ are given.  Consider a node $u$ with more than one neighbor.  Choose two of those neighbors $v$ and $w$.  What is the probability that $v$ and $w$ share an edge?\n",
    "\n",
    "Now assume that the average degree is fixed and $N$ goes to infinity.  What happens to the probability that $v$ and $w$ share an edge?\n",
    "\n",
    "What does this say about the density of triangles in large Erdős–Rényi networks, if the average degree is not large?"
   ]
  },
  {
   "cell_type": "markdown",
   "metadata": {
    "deletable": true,
    "editable": true
   },
   "source": []
  },
  {
   "cell_type": "markdown",
   "metadata": {
    "deletable": true,
    "editable": true
   },
   "source": [
    "## The Watts-Strogatz \"small-world\" network"
   ]
  },
  {
   "cell_type": "markdown",
   "metadata": {
    "deletable": true,
    "editable": true
   },
   "source": [
    "One of the most cited papers ever is \"Collective dynamics of ‘small-world’ networks\" by Watts and Strogatz.  It is available at https://www.nature.com/articles/30918.pdf [if you are logged in through La Trobe].\n",
    "\n",
    "The network class is based on the observation that in many real networks, the paths between nodes are typically fairly short (like in an Erdős–Rényi network), but the number of triangles is rather large.\n",
    "\n",
    "To generate a class of random networks with this property, they start with a ring of nodes, with each node connected to nearby nodes on the ring.  Then they rewire each edge with some probability $p$.\n",
    "\n",
    "What they find is that there are a range of rewiring probabilities $p$ for which the network has relatively large clustering (frequency of triangles), but short typical path lengths.\n",
    "\n",
    "![image](small_world_image.png)\n",
    "\n",
    "In this image $\\langle C\\rangle_p$ is the clustering for a given value of $p$ and $\\langle \\ell \\rangle_p$ is the average shortest path length."
   ]
  },
  {
   "cell_type": "markdown",
   "metadata": {
    "collapsed": true,
    "deletable": true,
    "editable": true
   },
   "source": [
    "#### Exercise\n",
    "\n",
    "Look at the [Networkx Documentation](https://networkx.github.io/documentation/stable/reference/generated/networkx.generators.random_graphs.watts_strogatz_graph.html#networkx.generators.random_graphs.watts_strogatz_graph) on Watts-Strogatz graphs (`nx.watts_strogatz_graph`).  \n",
    "\n",
    "Read over it and then use the algorithm to generate some networks for various parameter values.\n",
    "\n",
    "Plot a histogram of the degrees (see matplotlib's [`hist`](https://matplotlib.org/3.1.1/api/_as_gen/matplotlib.pyplot.hist.html) command)\n",
    "\n",
    "Calculate the clustering coefficients [use Google to find the networkx documentation on clustering coefficients, or a stackoverflow page describing how to do this]."
   ]
  },
  {
   "cell_type": "code",
   "execution_count": null,
   "metadata": {
    "collapsed": true,
    "deletable": true,
    "editable": true
   },
   "outputs": [],
   "source": []
  },
  {
   "cell_type": "markdown",
   "metadata": {
    "deletable": true,
    "editable": true
   },
   "source": [
    "## The Barabasi-Albert network model\n",
    "\n",
    "The networks we saw above all have relatively narrow degree distributions.  Many real-world networks seem to have a surprisingly large number of nodes with very high degree.\n",
    "\n",
    "To generate a class of random graph with a much broader degree distribution, Laszlo Barabasi and Reka Albert came up with the Barabasi-Albert network model.\n",
    "\n",
    "In this model: \n",
    "- we begin with a small graph, typically the initial graph has all possible edges.\n",
    "- Then we add a node.  We give it $m$ new neighbors.  To do this, we select $m$ nodes from the already existing nodes, with probability proportional to their current degrees.\n",
    "\n",
    "As a result, earlier nodes tend to have higher degree and the [Matthew effect](https://en.wikipedia.org/wiki/Matthew_effect) leads to their degrees growing quickly.\n",
    "\n",
    "This is provided as a command in networkx.\n",
    "\n",
    "##### Exercise\n",
    "\n",
    "Generate a few networks using networkx's implementation of this approach.  Plot histograms of their degrees.\n",
    "\n",
    "\n",
    "\n",
    "\n"
   ]
  },
  {
   "cell_type": "code",
   "execution_count": null,
   "metadata": {
    "collapsed": true,
    "deletable": true,
    "editable": true
   },
   "outputs": [],
   "source": []
  },
  {
   "cell_type": "markdown",
   "metadata": {
    "deletable": true,
    "editable": true
   },
   "source": [
    "## Configuration Model networks\n",
    "\n",
    "The final class of random network we will consider allows us to specify the degree sequence.  This is the Configuration Model network.\n",
    "\n",
    "The way the algorithm works is that we assign each node a degree.  If node $u$ has $k_u$ as its degree, we give it $k_u$ \"stubs\", or half-edges.  We then start to select random pairs of half-edges, which we pair into edges.\n",
    "\n",
    "The process is demonstrated here:\n",
    "\n",
    "<img src=\"CM_generation.png\" width=\"550\"/>\n",
    "\n",
    "Note: we may get self-edges and repeated-edges (so networkx's implementation returns a MultiGraph()).\n",
    "\n",
    "\n",
    "#### Exercise\n",
    "\n",
    "Create a large (say $N=1000000$ node) Configuration Model network with degrees `[3]*(N//2) + [1]*(N//2)`.  (also test what happens if you use `N/2` instead of `N//2` to see why I have two divide signs).\n",
    "\n",
    "Choose 50 nodes at random and check their degrees.  You should get about half with degree 3 and half with degree 1.\n",
    "\n",
    "Now choose 50 nodes at random, and for each of those nodes, choose a random neighbor.  Before checking, predict how many should have degree 3 and how many should have degree 1.  Check the degrees of the neighbors.\n",
    "\n",
    "Use this to explain the title of the article: \"Why your friends have more friends than you do\": https://www.jstor.org/stable/2781907\n",
    "\n",
    "Then check the clustering and average shortest path lengths for these networks.\n",
    "\n",
    "Next, take varying values of $N$ and modify  the proportion of nodes with degree 3.  Plot the proportion of nodes that are in the largest component as a function of the proportion of nodes with degree $3$.  Can you say why the transition is where it is?"
   ]
  },
  {
   "cell_type": "code",
   "execution_count": null,
   "metadata": {
    "collapsed": true,
    "deletable": true,
    "editable": true
   },
   "outputs": [],
   "source": []
  },
  {
   "cell_type": "markdown",
   "metadata": {
    "deletable": true,
    "editable": true
   },
   "source": [
    "We can demonstrate the principles of the exercise above in the following.  Consider the three figures below.  \n",
    "- We start by showing the nodes of the network.  \n",
    "- Then we show the network with stubs, where half of the nodes have degree $1$ and half degree $3$.\n",
    "- Finally we show the fully connected network.\n",
    "\n",
    "Please do the following steps several times:\n",
    "- Look at the first figure and select one of the nodes.  \n",
    "- Then look at that node in the figure with stubs.  Since half of them have $3$ and half $1$, you should get $3$ half of the time.\n",
    "- Then go to the next figure where the stubs are joined, but still focus on that node.  Without looking at the neighbors, choose one of the edges from your node and follow it to the neighbor.  Check the degree of the neighbor.  You should see that you reach degree $3$ nodes more often than degree $1$.  (how much more often?)\n",
    "\n",
    "<img src=\"CM_generationneg1.png\" width=\"300\"/>\n",
    "\n",
    "<img src=\"CM_generation0.png\" width=\"300\"/>\n",
    "\n",
    "<img src=\"final_circle.png\" width=\"300\"/>\n",
    "\n"
   ]
  },
  {
   "cell_type": "code",
   "execution_count": null,
   "metadata": {
    "collapsed": true,
    "deletable": true,
    "editable": true
   },
   "outputs": [],
   "source": []
  }
 ],
 "metadata": {
  "kernelspec": {
   "display_name": "Python 3",
   "language": "python",
   "name": "python3"
  },
  "language_info": {
   "codemirror_mode": {
    "name": "ipython",
    "version": 3
   },
   "file_extension": ".py",
   "mimetype": "text/x-python",
   "name": "python",
   "nbconvert_exporter": "python",
   "pygments_lexer": "ipython3",
   "version": "3.5.2"
  }
 },
 "nbformat": 4,
 "nbformat_minor": 2
}
