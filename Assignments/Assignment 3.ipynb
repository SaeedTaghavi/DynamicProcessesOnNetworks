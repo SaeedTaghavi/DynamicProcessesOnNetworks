{
 "cells": [
  {
   "cell_type": "markdown",
   "metadata": {
    "collapsed": true,
    "deletable": true,
    "editable": true
   },
   "source": [
    "Corrections\n",
    "- added some advice to 1.a.1\n",
    "- problem 1.a.ii p should go from 0 to 1.\n",
    "- problem 1.a.ii just use 21 values of $p$\n",
    "- problem 1.a.iii skip the $p=1$ case.\n",
    "- problem 2.i and 2.ii: It should be $\\frac{\\psi'(1-p+p\\hat{\\alpha})}{\\langle K \\rangle}$, not $\\frac{\\psi(1-p+p\\hat{\\alpha})}{\\langle K \\rangle}$.\n",
    "- Problem 4 - the example for contour plots actually plotted the transpose of the matrix I meant to plot.  I have corrected it.  (there are multiple ways to correct it - what I've done is change the order of the two loops)."
   ]
  },
  {
   "cell_type": "markdown",
   "metadata": {
    "deletable": true,
    "editable": true
   },
   "source": [
    "# Assignment 3"
   ]
  },
  {
   "cell_type": "code",
   "execution_count": null,
   "metadata": {
    "collapsed": true,
    "deletable": true,
    "editable": true
   },
   "outputs": [],
   "source": []
  },
  {
   "cell_type": "markdown",
   "metadata": {
    "deletable": true,
    "editable": true
   },
   "source": [
    "## Problem 1\n",
    "\n",
    "### Part a\n",
    "#### i)\n",
    "> Generate a configuration network $G$ consisting of $50000$ nodes.  Choose the degree distribution so that all nodes have degree at least $3$ and at most $10$.  \n",
    "\n",
    ">I recommend using a smaller graph until you have worked out any bugs in the questions below and then re-running with this larger $G$.\n"
   ]
  },
  {
   "cell_type": "code",
   "execution_count": null,
   "metadata": {
    "collapsed": true,
    "deletable": true,
    "editable": true
   },
   "outputs": [],
   "source": []
  },
  {
   "cell_type": "markdown",
   "metadata": {
    "deletable": true,
    "editable": true
   },
   "source": [
    "#### ii) \n",
    "> For $21$ values of $p$ from $0$ to $1$ (inclusive), calculate the probability that a single randomly chosen initial infection results in an epidemic, using the approach we derived in class [based on $\\psi(x)$].  Plot the probabilities as a function of $R_0$."
   ]
  },
  {
   "cell_type": "code",
   "execution_count": null,
   "metadata": {
    "collapsed": true,
    "deletable": true,
    "editable": true
   },
   "outputs": [],
   "source": []
  },
  {
   "cell_type": "markdown",
   "metadata": {
    "deletable": true,
    "editable": true
   },
   "source": [
    "#### iii) \n",
    "> For those same values of $p$, run $100$ **discrete SIR** (`EoN.basic_discrete_SIR`) simulations starting from a single randomly chosen initial infection.  For each $p$, find the proportion of simulations that infect at least $200$ individuals.  Plot the observed proportion, and plot the average size of those simulations that infect at least $200$ individuals, both as a function of $R_0$."
   ]
  },
  {
   "cell_type": "code",
   "execution_count": null,
   "metadata": {
    "collapsed": true,
    "deletable": true,
    "editable": true
   },
   "outputs": [],
   "source": []
  },
  {
   "cell_type": "markdown",
   "metadata": {
    "deletable": true,
    "editable": true
   },
   "source": [
    "#### iv) \n",
    "> Now set $\\gamma=1$ and find $\\tau$ such that $\\tau/(\\tau+\\gamma)=p$ for each of those values of $p$ except $p=1$.  Run $100$ continuous-time simulations.  Plot the proportion of simulations that cause at least $200$ cases and the average size of those simulations as a function of $R_0$.\n"
   ]
  },
  {
   "cell_type": "markdown",
   "metadata": {
    "collapsed": true,
    "deletable": true,
    "editable": true
   },
   "source": [
    "## 2\n",
    "\n",
    "<span style=\"color:orange\">\n",
    "In future, make sure it's clear that we're not looking for something found by taking $g \\to \\infty$.\n",
    "</span>\n",
    "\n",
    ">In lecture we derived an expression for the extinction probability from a \"subsequent case\" by defining $\\alpha_g$ and looking at the limit as $g \\to \\infty$.  It follows that $\\alpha_\\infty = \\frac{\\psi'(1-p+p\\alpha_\\infty)}{\\langle K \\rangle}$.\n",
    "\n",
    ">We'll look at another derivation of this equation.  Consider a large configuration model network (large enough that we can treat it as infinite).\n",
    "\n",
    "### i)\n",
    "\n",
    "> Define $\\hat{\\alpha}$ to be the probability that the descendants of a \"subsequent case\" do not form an infinite set.\n",
    " Argue that $\\hat{\\alpha}$ must solve \n",
    " \\begin{equation*}\n",
    " \\hat{\\alpha} = \\frac{\\psi'(1-p+p\\hat{\\alpha})}{\\langle K \\rangle} .\n",
    " \\end{equation*}\n",
    "\n"
   ]
  },
  {
   "cell_type": "code",
   "execution_count": null,
   "metadata": {
    "collapsed": true,
    "deletable": true,
    "editable": true
   },
   "outputs": [],
   "source": []
  },
  {
   "cell_type": "markdown",
   "metadata": {
    "deletable": true,
    "editable": true
   },
   "source": [
    "### ii) \n",
    "\n",
    "> Show that $\\alpha=1$ is always a solution to this equation.  This means that if we assume that the transmission chain is guaranteed to go extinct, then we conclude that the transmission chain goes extinct.  However, sometimes it doesn't go extinct (we really do see epidemics).  Explain why the logic above doesn't allow us to conclude $\\alpha = 1$ (it may help to recall that $\\psi'(1) = \\langle K \\rangle$).  \n",
    "\n",
    "> If $p<1$, then the function \n",
    "\\begin{equation*}\n",
    "\\frac{\\psi'(1-p+p\\alpha)}{\\langle K \\rangle}\n",
    "\\end{equation*}\n",
    "- Is equal to $1$ at $\\alpha = 1$.\n",
    "- Has second a non-negative second derivative,\n",
    "- is positive at $\\alpha=0$\n",
    "\n",
    "> Use this to find a condition on $\\psi''(1)$ which guarantees there is another solution for $\\alpha$.  It may help to sketch functions with these properties along with the line $y=\\alpha$\n",
    "\n",
    "\n",
    "\n",
    "\n"
   ]
  },
  {
   "cell_type": "code",
   "execution_count": null,
   "metadata": {
    "collapsed": true,
    "deletable": true,
    "editable": true
   },
   "outputs": [],
   "source": []
  },
  {
   "cell_type": "markdown",
   "metadata": {
    "deletable": true,
    "editable": true
   },
   "source": [
    "## 3 \n",
    "\n",
    "\n",
    "> In this problem we will investigate the mean-field model derived in lecture in more detail.\n",
    "\n",
    "\n",
    "### Part a\n",
    "\n",
    ">The basic mean field model we saw in lecture can be derived by assuming that infected individuals\n",
    "- have a potentially infectious interaction with rate $\\beta$ where $\\beta = \\tau \\langle K \\rangle$\n",
    "- that the person they have that interaction with is randomly chosen from the population.\n",
    "- that the rate of recovery is $\\gamma$.\n",
    "\n",
    "\n",
    "#### i)\n",
    "\n",
    ">Explain why these assumptions mean that the expected number of new infections an infected individual would cause before recovering is $\\beta/ \\gamma$ if $S \\approx N$.  This is $R_0$ for this model.\n",
    "\n"
   ]
  },
  {
   "cell_type": "markdown",
   "metadata": {
    "deletable": true,
    "editable": true
   },
   "source": []
  },
  {
   "cell_type": "markdown",
   "metadata": {
    "deletable": true,
    "editable": true
   },
   "source": [
    "#### ii)\n",
    ">Explain the relationship between this calculation for $R_0$ and the threshold for growth of $I$ we found in lecture.\n",
    "\n"
   ]
  },
  {
   "cell_type": "markdown",
   "metadata": {
    "deletable": true,
    "editable": true
   },
   "source": []
  },
  {
   "cell_type": "markdown",
   "metadata": {
    "deletable": true,
    "editable": true
   },
   "source": [
    "#### iii)\n",
    ">Take the mean-field model equation for $S$.  Rewrite it as\n",
    "\\begin{equation*}\n",
    "\\left(\\frac{d}{dt} S \\right) + \\beta \\frac{SI}{N} = 0\n",
    "\\end{equation*}\n",
    "Solve for $S(t)$ with an integrating factor (your result will involve an integral of $I$ from $0$ to $t$).\n",
    "\n",
    ">Similarly solve the equation for $R(t)$:\n",
    "\\begin{equation*}\n",
    "\\frac{d}{dt} R = \\gamma I\n",
    "\\end{equation*}\n",
    "Your solution will involve an integral of $I$ from $0$ to $t$.  \n",
    "\n",
    ">Use this to express the integral of $I$ from $0$ to $t$ in terms of $R$ and substitute it into the solution you found for $S(t)$.\n",
    "\n",
    ">Using the observation that as $t \\to \\infty$ eventually the epidemic dies out, so $S(\\infty) + R(\\infty) = N$, find an expression for $R(\\infty)/N$ as a function of $R(\\infty)/N$.  This is commonly known as \"the final size relation\"\n",
    "\n",
    "\n",
    "\n",
    "\n",
    "\n",
    "\n",
    "\n",
    "\n",
    "\n"
   ]
  },
  {
   "cell_type": "code",
   "execution_count": null,
   "metadata": {
    "collapsed": true,
    "deletable": true,
    "editable": true
   },
   "outputs": [],
   "source": []
  },
  {
   "cell_type": "markdown",
   "metadata": {
    "deletable": true,
    "editable": true
   },
   "source": [
    "## 4\n",
    "\n",
    "> The following code produces a Configuration Model network with a negative binomial degree distribution (using the `numpy.random.negative_binomial` command [described here](https://docs.scipy.org/doc/numpy-1.14.1/reference/generated/numpy.random.negative_binomial.html)).  Note that the Configuration Model requires that the degree sum is even, so there is a step required to ensure the degrees aren't odd:\n",
    "\n",
    "> To show the degree distribution, I've also plotted it.  There are $2$ parameters for the negative binomial distribution $n$ and $p$.  Note that in numpy this distribution is parameterized differently from how Wikipedia defines it.  Unfortunately there isn't a concensus on exactly how the negative binomial distribution should be defined.  We're using the numpy version.\n"
   ]
  },
  {
   "cell_type": "code",
   "execution_count": 80,
   "metadata": {
    "collapsed": false,
    "deletable": true,
    "editable": true
   },
   "outputs": [
    {
     "data": {
      "image/png": "[encoded data removed]",
      "text/plain": [
       "<matplotlib.figure.Figure at 0x1259cae48>"
      ]
     },
     "metadata": {},
     "output_type": "display_data"
    }
   ],
   "source": [
    "import networkx as nx\n",
    "import numpy as np\n",
    "import matplotlib.pyplot as plt\n",
    "\n",
    "\n",
    "N = 10000\n",
    "deg_dist = [1]\n",
    "n = 10   # a parameter of the negative binomial\n",
    "p = 0.7  # a parameter of the negative binomial\n",
    "\n",
    "while sum(deg_dist)%2 == 1:  #%2 means 'modulo 2'\n",
    "    deg_dist = np.random.negative_binomial(n,p, size = N)\n",
    "\n",
    "G = nx.configuration_model(deg_dist)\n",
    "plt.clf()\n",
    "plt.hist(deg_dist, bins = range(20))\n",
    "plt.show()"
   ]
  },
  {
   "cell_type": "markdown",
   "metadata": {
    "deletable": true,
    "editable": true
   },
   "source": [
    "> The code below does a basic discrete SIR simulation, except that it allows you to consider a limited\n",
    "intervention that reduces $p_T$.\n",
    "\n",
    "> The intervention starts on a day, and has some duration.  It multiplies $p_T$ by a factor $q$.\n"
   ]
  },
  {
   "cell_type": "code",
   "execution_count": 65,
   "metadata": {
    "collapsed": false,
    "deletable": true,
    "editable": true
   },
   "outputs": [],
   "source": [
    "import random \n",
    "import numpy as np\n",
    "def my_discrete_SIR(G, p_T, rho, intervention_start, intervention_duration, q):\n",
    "    '''\n",
    "    G - graph\n",
    "    p_T - transmission probability\n",
    "    rho - initial proportion infected\n",
    "    intervention_start - start date (integer)\n",
    "    intervention_duration - duration (integer)\n",
    "    q    float between 0 and 1.  0 is completely effective 1 is ineffective\n",
    "    '''\n",
    "    \n",
    "    status = {node:'S' if random.random()>rho else 'I' for node in G.nodes()}\n",
    "    \n",
    "\n",
    "\n",
    "    S = []\n",
    "    S.append(len([node for node in G.nodes() if status[node] == 'S']))\n",
    "    \n",
    "    I = []\n",
    "    I.append(len([node for node in G.nodes() if status[node] == 'I']))\n",
    "    \n",
    "    R = [0]\n",
    "    time = 0\n",
    "    t = [time]\n",
    "    infected_nodes = {node for node in G if status[node] == 'I'}\n",
    "    while infected_nodes:   #Python treats this as True if it's not an empty set\n",
    "        new_infections = set()\n",
    "        for node in infected_nodes:\n",
    "            for neighbor in G.neighbors(node):\n",
    "                if status[neighbor] == 'S':\n",
    "                    if intervention_start<=time and intervention_start+intervention_duration> time:\n",
    "                        internal_p = p_T * q\n",
    "                    else:\n",
    "                        internal_p = p_T\n",
    "                    if random.random()<internal_p:\n",
    "                        status[neighbor] = 'I'\n",
    "                        new_infections.add(neighbor)\n",
    "            status[node] = 'R'\n",
    "        infected_nodes = new_infections\n",
    "\n",
    "        time += 1\n",
    "        R.append(R[-1]+I[-1])\n",
    "        I.append(len(infected_nodes))\n",
    "        S.append(S[-1] - I[-1])\n",
    "        t.append(time)\n",
    "    return np.array(t), np.array(S), np.array(I), np.array(R)\n",
    "    "
   ]
  },
  {
   "cell_type": "markdown",
   "metadata": {
    "deletable": true,
    "editable": true
   },
   "source": [
    "> The following tests that this code agrees with the `EoN` code.  By trial and error, I've found a value of $p_T$ that\n",
    "results in about half the population infected."
   ]
  },
  {
   "cell_type": "code",
   "execution_count": 66,
   "metadata": {
    "collapsed": false,
    "deletable": true,
    "editable": true
   },
   "outputs": [
    {
     "name": "stdout",
     "output_type": "stream",
     "text": [
      "518238 1000000\n",
      "[1000000 1000000 1000000 1000000 1000000 1000000 1000000 1000000 1000000\n",
      " 1000000 1000000 1000000 1000000 1000000 1000000 1000000 1000000 1000000\n",
      " 1000000 1000000 1000000 1000000 1000000 1000000 1000000 1000000 1000000\n",
      " 1000000 1000000 1000000 1000000 1000000 1000000 1000000 1000000 1000000\n",
      " 1000000 1000000 1000000 1000000 1000000 1000000 1000000 1000000 1000000\n",
      " 1000000 1000000]\n"
     ]
    },
    {
     "data": {
      "image/png": "[encoded data removed]",
      "text/plain": [
       "<matplotlib.figure.Figure at 0x1251055c0>"
      ]
     },
     "metadata": {},
     "output_type": "display_data"
    },
    {
     "data": {
      "image/png": "[encoded data removed]",
      "text/plain": [
       "<matplotlib.figure.Figure at 0x12c6c8fd0>"
      ]
     },
     "metadata": {},
     "output_type": "display_data"
    },
    {
     "name": "stdout",
     "output_type": "stream",
     "text": [
      "516431\n",
      "[1000000 1000000 1000000 1000000 1000000 1000000 1000000 1000000 1000000\n",
      " 1000000 1000000 1000000 1000000 1000000 1000000 1000000 1000000 1000000\n",
      " 1000000 1000000 1000000 1000000 1000000 1000000 1000000 1000000 1000000\n",
      " 1000000 1000000 1000000 1000000 1000000 1000000 1000000 1000000 1000000\n",
      " 1000000 1000000 1000000 1000000 1000000 1000000 1000000 1000000 1000000]\n"
     ]
    }
   ],
   "source": [
    "import EoN\n",
    "t, S, I, R = my_discrete_SIR(G, 0.32, 0.0001, 1, 2, 1)  #Running an intervention on day 1 for 2 days, that has no effect\n",
    "print(R[-1], G.order())\n",
    "print(S+I+R)\n",
    "plt.plot(t, I)\n",
    "plt.show()\n",
    "t, S, I, R = EoN.basic_discrete_SIR(G, 0.32, rho = 0.0001)\n",
    "plt.plot(t,I)\n",
    "plt.show()\n",
    "print(R[-1])\n",
    "print(S+I+R)"
   ]
  },
  {
   "cell_type": "code",
   "execution_count": 67,
   "metadata": {
    "collapsed": false,
    "deletable": true,
    "editable": true
   },
   "outputs": [
    {
     "data": {
      "image/png": "[encoded data removed]",
      "text/plain": [
       "<matplotlib.figure.Figure at 0x12508a780>"
      ]
     },
     "metadata": {},
     "output_type": "display_data"
    }
   ],
   "source": [
    "#Heres an intervention starting on day 13 for 1 day that reduces $p_T$ to $0.7p_T$. with rho = 0.0001\n",
    "t, S, I, R = my_discrete_SIR(G, 0.32, 0.0001, 13, 1, 0.7)\n",
    "plt.clf()\n",
    "plt.plot(t,I)\n",
    "plt.show()"
   ]
  },
  {
   "cell_type": "markdown",
   "metadata": {
    "deletable": true,
    "editable": true
   },
   "source": [
    "> Imagine that a disease is introduced into a population having the parameters used above, and we have an intervention that we can introduce temporarily, but we cannot keep it in place for ever.\n",
    "\n",
    "> For durations from $1$ to $5$ I want to explore the impact of the intervention depending on how effective it is and what day we start.  You will run simulations for start dates from day 0 up to day 30.  Then provide answers to the questions below"
   ]
  },
  {
   "cell_type": "markdown",
   "metadata": {
    "deletable": true,
    "editable": true
   },
   "source": [
    "In the below I ask you to plot some contour plots.  Here's an example to plot $x^2y$.\n"
   ]
  },
  {
   "cell_type": "code",
   "execution_count": 89,
   "metadata": {
    "collapsed": false,
    "deletable": true,
    "editable": true
   },
   "outputs": [
    {
     "data": {
      "image/png": "[encoded data removed]",
      "text/plain": [
       "<matplotlib.figure.Figure at 0x224476550>"
      ]
     },
     "metadata": {},
     "output_type": "display_data"
    }
   ],
   "source": [
    "import numpy as np\n",
    "xs = np.linspace(-1,1,51)\n",
    "ys = np.linspace(-1,1,101)\n",
    "\n",
    "\n",
    "#In general, when using arrays/matrices you want to avoid using Python for loops.  They are much slower\n",
    "#than the builtin numpy functions.  But I want to keep the focus on doing contour plots.  If you find yourself\n",
    "#doing calculations like this yourself, the term you want to look for is \"vectorizing\" code.\n",
    "\n",
    "M = []\n",
    "for y in ys:\n",
    "    new_row = []\n",
    "    for x in xs:\n",
    "        new_row.append(x*y*y + x - y)  #changed function so the lack of symmetry is more obvious\n",
    "    M.append(new_row)\n",
    "    \n",
    "X, Y = np.meshgrid(xs, ys)\n",
    "plt.contourf(X,Y,M)\n",
    "plt.colorbar()\n",
    "plt.show()\n"
   ]
  },
  {
   "cell_type": "markdown",
   "metadata": {
    "deletable": true,
    "editable": true
   },
   "source": [
    "### a)\n",
    "\n",
    "> How much impact does the intervention have on the total number infected?  For each duration, create a contour plot having start date on one axis and $q$ from $0$ to $1$ on the other axis.  Please provide colors and color bar showing the size of the reduction.\n",
    "\n"
   ]
  },
  {
   "cell_type": "code",
   "execution_count": null,
   "metadata": {
    "collapsed": true,
    "deletable": true,
    "editable": true
   },
   "outputs": [],
   "source": []
  },
  {
   "cell_type": "markdown",
   "metadata": {
    "deletable": true,
    "editable": true
   },
   "source": [
    "### b)\n",
    "> How much impact does the intervention have on the date with highest numbers infected?  Create a contour plot as above."
   ]
  },
  {
   "cell_type": "code",
   "execution_count": null,
   "metadata": {
    "collapsed": true,
    "deletable": true,
    "editable": true
   },
   "outputs": [],
   "source": []
  },
  {
   "cell_type": "markdown",
   "metadata": {
    "deletable": true,
    "editable": true
   },
   "source": [
    "### c)\n",
    "> How much impact does the intervention have on the peak number infected?  Create a contour plot as above.\n"
   ]
  },
  {
   "cell_type": "code",
   "execution_count": null,
   "metadata": {
    "collapsed": true,
    "deletable": true,
    "editable": true
   },
   "outputs": [],
   "source": []
  },
  {
   "cell_type": "markdown",
   "metadata": {
    "deletable": true,
    "editable": true
   },
   "source": [
    "### d)\n",
    "\n",
    "> Comment on the effectiveness of closing schools as soon as infection is observed.  What does this help, and what does it not help?"
   ]
  },
  {
   "cell_type": "markdown",
   "metadata": {
    "deletable": true,
    "editable": true
   },
   "source": []
  }
 ],
 "metadata": {
  "kernelspec": {
   "display_name": "Python 3",
   "language": "python",
   "name": "python3"
  },
  "language_info": {
   "codemirror_mode": {
    "name": "ipython",
    "version": 3
   },
   "file_extension": ".py",
   "mimetype": "text/x-python",
   "name": "python",
   "nbconvert_exporter": "python",
   "pygments_lexer": "ipython3",
   "version": "3.5.2"
  }
 },
 "nbformat": 4,
 "nbformat_minor": 2
}
