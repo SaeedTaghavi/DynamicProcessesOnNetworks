{
 "cells": [
  {
   "cell_type": "markdown",
   "metadata": {
    "deletable": true,
    "editable": true
   },
   "source": [
    "### Updates since going online:\n",
    "\n",
    "- I have added a lot to the bottom of this document, in the section \"Mathematical Models\"\n",
    "- I corrected the \"flow diagram\" for the heterogeneous mean-field.\n",
    "- simplified the discussion around threshold condition for mean-field SIR (to mimic what we did in lecture)\n",
    "- added discussion about why the peak in prevalence ($I$) occurs (as we did in lecture).\n",
    "- simplified discussion of threshold condition for heterogeneous mean-field SIR to be more like what we did for the plain mean-field model in lecture.\n",
    "- added discussion of phase transitions.\n",
    "\n",
    "## Mathematical Modeling of SIR epidemics on Networks\n",
    "\n",
    "We are now going to look at various tools which have been developed to predict the behavior of SIR epidemics on networks.\n",
    "\n",
    "### $R_0$\n",
    "\n",
    "What determines if epidemic outbreaks are possible?  If an average \"early infection\" would cause more than one new infection, then we expect that epidemics are possible (but not guaranteed).  Once we have identified what typical early infection look like then:\n",
    "\n",
    "**$R_0$ is the expected number of additional infections each \"early infection\" would cause before recovery**.  Right now we're just going to assume that $R_0$ exists for any network and disease, and discuss what properties it should have.  It turns out that for some networks it can sometimes be hard to clearly define it.\n",
    "\n",
    "\n",
    "If the early infections cause on average less than $1$ new infection, then epidemics do not happen.  If the expected number is greater than $1$, then epidemics have positive probability but they might not happen.  If we start with enough infections, then we should see an epidemic occur.  \n",
    "\n",
    "But what exactly is a typical early infection?  The next few examples will hopefully clarify this.\n",
    "\n",
    "In each example below, the average degree is $4$.  We take a transmission probability of $1/4$ or close to $1/4$ and start with 100 nodes of the population randomly infected.  If epidemics are possible, at least one of these infections should trigger it.  However, since the networks have 100,000 or 1,000,000 nodes, this is a small fraction.  \n",
    "\n",
    "Before running the code, look at the transmission probabilities and the degree distribution.  Do you think $R_0$ is bigger than $1$ in each case?  Once you've made up your mind run the simulation and see whether there is sustained growth early on or whether things decay soon after it begins."
   ]
  },
  {
   "cell_type": "code",
   "execution_count": null,
   "metadata": {
    "collapsed": true,
    "deletable": true,
    "editable": true
   },
   "outputs": [],
   "source": [
    "import networkx as nx\n",
    "import EoN\n",
    "import matplotlib.pyplot as plt\n",
    "\n",
    "plt.clf()\n",
    "\n",
    "N=100000\n",
    "deg_dist = [4]*N\n",
    "\n",
    "G = nx.configuration_model(deg_dist)\n",
    "#G is a graph for which all nodes have degree **exactly** 4\n",
    "\n",
    "p = 0.26\n",
    "t, S, I, R = EoN.basic_discrete_SIR(G, p, rho = 0.001)\n",
    "\n",
    "plt.clf()\n",
    "plt.plot(t, I)\n",
    "plt.show()"
   ]
  },
  {
   "cell_type": "markdown",
   "metadata": {
    "deletable": true,
    "editable": true
   },
   "source": [
    "In the code above we start with a large network.  There are many infections, but they make up a small fraction (0.1%).  \n",
    "\n",
    "Every node has degree 4.  The transmission probability is just over $1/4$.  So we might expect epidemics to occur.\n",
    "\n",
    "We see that in the very first time step there is some growth which is because the initial infections cause more than 1 infection on average.\n",
    "\n",
    "However, after that, **the infected individuals have only 3 susceptible neighbors**.  Since $3p<1$, he number of infections dies off geometrically after that.\n",
    "\n",
    "If the quantity $R_0$ is meaningful here, it must be the case that $R_0<1$.  In fact, with the expression we'll derive later it is $0.26*3=0.78$."
   ]
  },
  {
   "cell_type": "code",
   "execution_count": null,
   "metadata": {
    "collapsed": true,
    "deletable": true,
    "editable": true
   },
   "outputs": [],
   "source": [
    "import networkx as nx\n",
    "import matplotlib.pyplot as plt\n",
    "\n",
    "N = 100000\n",
    "G = nx.configuration_model([1,7]*(N//2))\n",
    "\n",
    "p = 0.24\n",
    "\n",
    "t, S, I, R = EoN.basic_discrete_SIR(G, p, rho = 0.001)\n",
    "\n",
    "plt.clf()\n",
    "plt.plot(t, I)\n",
    "plt.show()"
   ]
  },
  {
   "cell_type": "markdown",
   "metadata": {
    "deletable": true,
    "editable": true
   },
   "source": [
    "In this case, in the initial generation half have each degree $1$ or $7$.  So the average is $4$.  Since $4p<1$, there is a drop in the first step (but it is small).  After that first generation, we see many more degree $7$ individuals infected than degree $1$ individuals.  Most newly infected degree $7$ individuals will have $6$ susceptible partners, leading to $6p \\approx 1.5$ new infections each.  Since the degree $7$ individuals make up a large fraction of the infected population, this is enough to produce growth.\n",
    "\n",
    "Here $R_0>1$.  In fact, with the expression we'll derive below, it is $0.24 (21/4)=1.26$."
   ]
  },
  {
   "cell_type": "code",
   "execution_count": null,
   "metadata": {
    "collapsed": true,
    "deletable": true,
    "editable": true
   },
   "outputs": [],
   "source": [
    "import networkx as nx\n",
    "import matplotlib.pyplot as plt\n",
    "\n",
    "N=1000000\n",
    "G = nx.fast_gnp_random_graph(N, 4/(N-1))\n",
    "p=0.25\n",
    "\n",
    "t, S, I, R = EoN.basic_discrete_SIR(G, p, rho = 0.0001)\n",
    "\n",
    "plt.clf()\n",
    "plt.plot(t, I)\n",
    "plt.show()"
   ]
  },
  {
   "cell_type": "markdown",
   "metadata": {
    "deletable": true,
    "editable": true
   },
   "source": [
    "(Try running this simulation several times since stochasticity is fairly significant)\n",
    "\n",
    "Compare how long the outbreak persists with the our first  case where $R_0<1$.\n",
    "\n",
    "For an Erdős–Rényi network with average $4$ the two competing effects we saw above exactly cancel.  That is, the fact that higher degree individuals are preferentially infected is exactly cancelled by the fact that they each have $1$ less than their degree available to infect.  The result is that the outbreak can persist for a long period without significant growth before it eventually dies out.\n",
    "\n",
    "$R_0$ for this network is $1$."
   ]
  },
  {
   "cell_type": "markdown",
   "metadata": {
    "deletable": true,
    "editable": true
   },
   "source": [
    "### The \"Excess Degree\" of a node\n",
    "\n",
    "To understand $R_0$, it's clear that one of the things we need to look at is how many susceptible neighbors a newly infected node will have.  For networks without clustering, it is reasonable to assume that early in an outbreak, if a degree $k$ node becomes infected, then it will have $k-1$ susceptible neighbors, because one neighbor (its infector) is infected.\n",
    "\n",
    "We will focus on Configuration Model networks, which are unclustered as long as the typical degrees are much less than the population size $N$.  We use $P(k)$ to denote the probability a randomly selected node has degree $k$ and $P_n(k)$ to be the probability a randomly selected neighbor of a given node has degree $k$.\n",
    "\n",
    "For a network with small clustering, we define $k-1$ to be the **\"excess degree\"** of the node.  \n",
    "\n",
    "Then $R_0$ should be the average excess degree early in the epidemic times the transmission probability.\n",
    "\\begin{equation*}\n",
    "R_0 = p \\sum_{k} P_n(k) (k-1)\n",
    "\\end{equation*}\n",
    "\n",
    "It is worth noting that although $P(k)$ [for the initial infections] and $P_n(k)$ [for the next generation] are different, in the limit of a very large Configuration Model network, subsequent generations also have the same distribution $P_n(k)$.  So an \"early infection\" has degree chosen from the distribution given by $P_n(k)$."
   ]
  },
  {
   "cell_type": "markdown",
   "metadata": {
    "deletable": true,
    "editable": true
   },
   "source": [
    "### Size Biasing of early infections\n",
    "\n",
    "We have observed that the probability of infection early in the epidemic is higher for high degree nodes.\n",
    "\n",
    "Let's revisit this.  In the lecture on random graphs, I asked you to select a random node, and then look at who you reach following a random edge.  Here are those graphs again:\n",
    "\n",
    "<img src=\"CM_generationneg1.png\" width=\"300\"/>\n",
    "\n",
    "<img src=\"CM_generation0.png\" width=\"300\"/>\n",
    "\n",
    "<img src=\"final_circle.png\" width=\"300\"/>\n",
    "\n",
    "We saw that it's more likely that we end up at a degree $3$ node when we visit the neighbor of a node than at a degree $1$ node.  Let's see how this plays out in general.\n",
    "\n",
    "Assume we are in a large Configuration Model network where $P(k)$ gives the probability of having degree $k$.  When a node selects the connection for one of its stubs, it's choosing uniformly from the available stubs.  To find the probability $P_n(k)$ of choosing to connect to a stub from a degree $k$ node, we need to know the total number of stubs connecting to degree $k$ nodes and the total number of nodes.\n",
    "\n",
    "In a population of $N$ nodes, the number of stubs of degree $k$ nodes is $k P(k)N$ (there are $N$ nodes, meaning that $P(k)N$ of the nodes have degree $k$, and thus there are $k P(k) N$ total stubs from degree $k$ nodes.\n",
    "\n",
    "In the entire population, there are $\\sum_k k P(k) N$ total stubs.  Defining $\\langle K \\rangle = \\sum_k k P(k)$ to be the average degree, we have $N \\langle K \\rangle$ total stubs.\n",
    "\n",
    "So the probability of choosing a stub from a given degree $k$ is \n",
    "\\begin{align*}\n",
    "P_n(k) &= \\frac{k P(k) N}{N \\langle K \\rangle}\\\\\n",
    "&= \\frac{k P(k)}{\\langle K \\rangle}\n",
    "\\end{align*}\n",
    "This gives us\n",
    "\\begin{equation*}\n",
    "R_0 = p \\sum_k (k-1) P_n(k) = p \\frac{\\langle K^2-K\\rangle}{\\langle K \\rangle} \n",
    "\\end{equation*}\n",
    "\n",
    "The fact that the numerator depends on $\\langle K^2 \\rangle$ reflects the fact that high degree individuals get infected with probability proportional to their degree and once infected the number of transmissions they cause is also roughly proportional to their degree.\n"
   ]
  },
  {
   "cell_type": "markdown",
   "metadata": {
    "deletable": true,
    "editable": true
   },
   "source": [
    "### Power law networks\n",
    "\n",
    "The Erdős–Rényi networks have relatively \"narrow\" degree distributions.  Sexual networks have much broader degree distributions.  That is: in an  Erdős–Rényi network, if one node has more edges than others, this isn't because of an intrinsic property of the node, but rather because of random chance.  In a sexual network, there are individuals who simply aquire partners at a much higher rate.\n",
    "\n",
    "Let's look at an Erdős–Rényi network's degree distribution.  We're going to look at it in two ways: the probability of having a given degree $k$ and the probability of having degree at least $k$.\n"
   ]
  },
  {
   "cell_type": "code",
   "execution_count": 9,
   "metadata": {
    "collapsed": false,
    "deletable": true,
    "editable": true
   },
   "outputs": [
    {
     "data": {
      "image/png": "[encoded data removed]",
      "text/plain": [
       "<matplotlib.figure.Figure at 0x107d2e438>"
      ]
     },
     "metadata": {},
     "output_type": "display_data"
    },
    {
     "data": {
      "image/png": "[encoded data removed]",
      "text/plain": [
       "<matplotlib.figure.Figure at 0x12ad972b0>"
      ]
     },
     "metadata": {},
     "output_type": "display_data"
    }
   ],
   "source": [
    "import networkx as nx\n",
    "import matplotlib.pyplot as plt\n",
    "import matplotlib                          #these last 2 imports are\n",
    "from distutils.version import LooseVersion #used to check \n",
    "                                           #matplotlib version\n",
    "\n",
    "N=100000\n",
    "kave = 6\n",
    "G = nx.fast_gnp_random_graph(N, kave/(N-1))\n",
    "\n",
    "Degs = [G.degree(node) for node in G.nodes()]\n",
    "\n",
    "if LooseVersion(matplotlib.__version__) >=  LooseVersion(\"2.1\"):  \n",
    "    plt.hist(Degs, bins = range(20), density=True)\n",
    "else:\n",
    "    plt.hist(Degs, bins = range(20), normed=True)\n",
    "plt.ylabel('$P(k)$')\n",
    "plt.xlabel('$k$')\n",
    "plt.show()\n",
    "plt.clf()\n",
    "if LooseVersion(matplotlib.__version__) >=  LooseVersion(\"2.1\"):  \n",
    "    plt.hist(Degs, bins = range(20), cumulative = -1, density=True)\n",
    "else:\n",
    "    plt.hist(Degs, bins = range(20), cumulative = -1, normed=True)\n",
    "plt.ylabel(r'$P(k\\geq K)$')\n",
    "plt.xlabel('$K$')\n",
    "    \n",
    "plt.show()"
   ]
  },
  {
   "cell_type": "markdown",
   "metadata": {
    "deletable": true,
    "editable": true
   },
   "source": [
    "For sexual neworks, a 2001 paper (The web of human sexual contacts) found that the probability of having at least $K$ partners in the last 12 months (left) or over having had at least $K$ partners ever (right) followed a very different pattern from the Erdős–Rényi networks.  There are many more high-degree individuals: \n",
    "\n",
    "<img src=\"sexual_PL.png\" width=\"600\"/>\n",
    "\n",
    "An argument has been made that the degree distribution of sexual networks has $P(k) \\sim k^{-\\gamma}$ where $\\gamma$ appears to lie between $2$ and $3$ (at least for large $k$).  Then taking $P(k) \\approx r k^{-\\gamma}$ for $k \\geq K$, the contribution of these large degree nodes to the average degree $\\langle k \\rangle$ is close to\n",
    "\\begin{align*}\n",
    "\\int_K^\\infty k r k^{-\\gamma} \\, dk &= r \\int_K^\\infty k^{1-\\gamma} \\, dk \\\\\n",
    "&= r \\left. \\frac{k^{2-\\gamma}}{2-\\gamma} \\right|_K^\\infty\\\\\n",
    "& < \\infty\n",
    "\\end{align*}\n",
    "[recall $2-\\gamma<0$]\n",
    "But if we now look at $\\langle k^2 \\rangle$, we find that for $\\gamma$ between $2$ and $3$, this becomes infinite.\n",
    "\n",
    "So, $R_0$ is infinite for these networks.\n",
    "\n",
    "#### A Major Caveat\n",
    "\n",
    "The calculation of $R_0$ assumes that all edges have equal transmission probability.  However, in a sexual network, those people who are at the high end are changing partners faster.  They are having fewer interactions per partner.  For some sexually transmitted diseases, the transmission probabilities are very low.  HIV has a transmission rate that is probably less than $1$% per sex act.  Frequency of having sex probably has a pretty hard cut-off at the high end (though I don't think I've actually seen the data on this).  So ultimately $R_0$ is actually finite.\n",
    "\n"
   ]
  },
  {
   "cell_type": "markdown",
   "metadata": {
    "deletable": true,
    "editable": true
   },
   "source": [
    "### Herd immunity\n",
    "\n",
    "We have found that $R_0$ for a Configuration Model network should be \n",
    "\\begin{equation*}\n",
    "R_0 = p \\frac{\\langle K^2-K \\rangle}{\\langle K \\rangle}\n",
    "\\end{equation*}\n",
    "\n",
    "If a proportion of the population is randomly vaccinated, then some of these edges will point to immune individuals.  In this case, we define $R_{e}$ to be **\"$R$-effective\"**.  This is the reproductive number after accounting for the existing immunity of the population.\n",
    "\n",
    "If we can vaccinate enough individuals such that $R_{e}$  is less than $1$, then we expect no epidemics.\n",
    "\n",
    "#### Vaccination Strategies\n",
    "Obviously vaccination is an important way to achieve herd immunity.  There are various strategies for choosing the indivdiuals to be vaccinated.\n",
    "\n",
    "- **Random vaccination**\n",
    "\n",
    "  If we vaccinate randomly-chosen individuals this will not affect the degree of a typical infected individual, however, the probability one of that individual's neighbors is susceptible is reduced.  Then $R_e$ is the unvaccinated proportion time $R_0$.  Our goal is typically to vaccinate enough that $R_e<1$.  If we vaccinate a proportion $V$ of the population, then our target is $(1-V)R_0 < 1$.  Solving for $V$ in terms of $R_0$, we find $V + 1- 1/R_0$.\n",
    "  \n",
    "  For Measles, which has $R_0$ close to $20$, this suggests we need to vaccinate $19$ out of every $20$ individuals to prevent an epidemic. Unforutnately, even this is often not enough.  The individuals who decline vaccination are likely to be part of the same community.  So even if we achieve the $95$% target, if that is heterogeneously distributed, there will be a subset that is susceptible to epidemics.\n",
    "  \n",
    "  \n",
    "- **Highest degree vaccination**\n",
    "\n",
    "  High degree individuals are important both because they are infected sooner and because they cause more infections.  So it seems reasonable to target these individuals because it maximizes the impact of each vaccine on $R_0$.\n",
    "  \n",
    "  However, there is a practical challenge.  How do we select the highest degree individuals to vaccinate?  In real-life we usually don't actually know the true network structure.\n",
    "\n",
    "- **Acquaintance vaccination**\n",
    "\n",
    "  An option for preferentially identifying the high-degree individuals is through \"acquaintance vaccination\".  Ask people to nominate one of their partners for vaccination.  This is imperfect, but would tend to increase the degree of those who are vaccinated.\n",
    "\n",
    "\n",
    "\n"
   ]
  },
  {
   "cell_type": "markdown",
   "metadata": {
    "deletable": true,
    "editable": true
   },
   "source": [
    "## Epidemic Probability\n",
    "\n",
    "We've talked about the fact that epidemics only happen with $R_0>1$, and we've seen that even then if we start with a single infection, they are not inevitable.\n",
    "\n",
    "So, let's see if we can calculate the epidemic probability analytically.  We'll do this in the limit of an infinite population, with Configuration Model assumptions.  The actual calculation we'll do is whether or not the outbreak dies out in a finite number of generations.  If not, then we assume it is an epidemic outbreak.  If so, then it is a non-epidemic outbreak.\n",
    "\n",
    "For future use, we'll define\n",
    "\\begin{equation*}\n",
    "\\psi(x) = \\sum_k P(k) x^k\n",
    "\\end{equation*}\n",
    "Note that\n",
    "\\begin{equation*}\n",
    "\\langle K \\rangle = \\psi'(1)\n",
    "\\end{equation*}\n",
    "\n",
    "We will consider the discrete-time version of the model.\n",
    "\n",
    "A **key observation** is that after the (randomly chosen) initial infection which has degree $k$ with probability $P(k)$, all other individuals to be infected have degree k with probability $P_n(k) = k P(k) / \\langle K \\rangle$.  These individuals have an excess degree of $k-1$.  Let's call these individuals \"subsequent cases\"\n",
    "\n",
    "Define $\\alpha_g$ to be the probability that a subsequent case has no descendents after $g$ or more generations lower (So $\\alpha_1 \\leq \\alpha_2 \\leq \\cdots \\leq 1$).  We start by finding $\\alpha_1$\n",
    "\\begin{align*}\n",
    "\\alpha_1 &= \\sum_k P_n(k) (1-p)^{k-1}\\\\\n",
    "&= \\sum_k \\frac{k P(k)}{\\langle K \\rangle} (1-p)^{k-1}\\\\\n",
    "&= \\frac{1}{\\psi'(1)} \\sum_k k P(k) (1-p)^{k-1}\\\\\n",
    "&= \\frac{\\psi'(1-p)}{\\psi'(1)}\n",
    "\\end{align*}\n",
    "And more generally\n",
    "\\begin{align*}\n",
    "\\alpha_{g+1} &= \\sum_k P_n(k) (1-p + p \\alpha_g)^{k-1}\\\\\n",
    "&= \\frac{\\psi'(1-p+p\\alpha_g)}{\\psi'(1)}\n",
    "\\end{align*}\n",
    "\n",
    "So the probability of eventual extinction of all chains from a subsequent case is given by iterating this, starting with $\\alpha_0=0$ until it converges to a limit.\n",
    "\n",
    "Then once the limit $\\alpha_\\infty$ is found, the probability that the initial individual does not start an epidemic is\n",
    "\\begin{equation*}\n",
    "\\sum_k P(k) (1-p + p\\alpha_\\infty)^k = \\psi(1-p+p\\alpha_\\infty)\n",
    "\\end{equation*}"
   ]
  },
  {
   "cell_type": "code",
   "execution_count": 31,
   "metadata": {
    "collapsed": false,
    "deletable": true,
    "editable": true
   },
   "outputs": [
    {
     "data": {
      "image/png": "[encoded data removed]",
      "text/plain": [
       "<matplotlib.figure.Figure at 0x10799b828>"
      ]
     },
     "metadata": {},
     "output_type": "display_data"
    },
    {
     "name": "stdout",
     "output_type": "stream",
     "text": [
      "we're now plotting the probability of having at least a\n",
      " particular size, since this let's us see the probability of\n",
      " having something larger than an epidemic.\n"
     ]
    },
    {
     "data": {
      "image/png": "[encoded data removed]",
      "text/plain": [
       "<matplotlib.figure.Figure at 0x140dae9e8>"
      ]
     },
     "metadata": {},
     "output_type": "display_data"
    },
    {
     "name": "stdout",
     "output_type": "stream",
     "text": [
      "0.293612437504\n",
      "0.41203990935733137\n",
      "0.4762627130124413\n",
      "0.5158229125401201\n",
      "0.5419890613713909\n",
      "0.5600855130686554\n",
      "0.572979961607756\n",
      "0.5823607595952979\n",
      "0.5892877322311186\n",
      "0.5944586746875065\n",
      "0.5983499588931447\n",
      "0.6012959548387158\n",
      "0.6035364447695695\n",
      "0.6052462565596337\n",
      "0.6065545079521613\n",
      "0.6075575123529008\n",
      "0.6083276698114719\n",
      "0.6089197305984748\n",
      "0.6093752898389705\n",
      "0.6097260616483503\n",
      "Epidemic probability =  0.29565072737733256\n"
     ]
    }
   ],
   "source": [
    "import networkx as nx\n",
    "import EoN\n",
    "import matplotlib.pyplot as plt\n",
    "import numpy as np\n",
    "\n",
    "import matplotlib                          #these last 2 imports are\n",
    "from distutils.version import LooseVersion #used to check \n",
    "                                           #matplotlib version\n",
    "\n",
    "#let's look at epidemic probability in a population with P(1)=P(7)=1/2.\n",
    "\n",
    "def psi(x):  #half have degree 1 and 7.\n",
    "    return (x+x**7)/2  \n",
    "\n",
    "def psiPrime(x):\n",
    "    return (1+7*x**6)/2\n",
    "\n",
    "p = 0.24  #we did this case above, but with many initial infections.\n",
    "          #now we'll just do one.\n",
    "\n",
    "iterations = 1000\n",
    "sizes = []\n",
    "N=10000\n",
    "G = nx.configuration_model([1,7]*(N//2))\n",
    "for counter in range(iterations):\n",
    "    \n",
    "    t, S, I, R = EoN.basic_discrete_SIR(G, p)\n",
    "    sizes.append(R[-1]/N)\n",
    "\n",
    "if LooseVersion(matplotlib.__version__) >=  LooseVersion(\"2.1\"):  \n",
    "    plt.hist(sizes, bins = np.linspace(0,1, N+1))\n",
    "else:\n",
    "    plt.hist(sizes, bins = np.linspace(0,1, N+1))\n",
    "plt.yscale('log')\n",
    "plt.show()\n",
    "\n",
    "print(\"we're now plotting the probability of having at least a\\n\",\n",
    "      \"particular size, since this let's us see the probability of\\n\",\n",
    "      \"having something larger than an epidemic.\")\n",
    "\n",
    "if LooseVersion(matplotlib.__version__) >=  LooseVersion(\"2.1\"):  \n",
    "    plt.hist(sizes, cumulative = -1, density=True)\n",
    "else:\n",
    "    plt.hist(sizes,  cumulative = -1, normed=True)\n",
    "plt.show()\n",
    "\n",
    "#now let's try to find the epidemic probability\n",
    "alpha = 0\n",
    "for counter in range(20):\n",
    "    alpha = psiPrime(1-p+p*alpha)/psiPrime(1)\n",
    "    print(alpha)\n",
    "\n",
    "print(\"Epidemic probability = \", 1-psi(1-p+p*alpha))\n",
    "    "
   ]
  },
  {
   "cell_type": "markdown",
   "metadata": {
    "deletable": true,
    "editable": true
   },
   "source": [
    "## Bond Percolation and SIR epidemics\n",
    "\n",
    "Something curious happened in the calculation above.  The probability of an epidemic was very close to the size of the epidemic.\n",
    "\n",
    "I don't think I'm going to discuss this in lecture, though it's one of my favorite aspects of SIR models on networks.  If you're interested, it's in the early part of Chapter 6 of the Mathematics of Epidemics on Networks book, and it's also in [this paper](https://scholar.harvard.edu/files/joelmiller/files/episizeprob.pdf)\n",
    "\n",
    "In general you can convince yourself that these are the same for networks by the following argument:\n",
    "\n",
    "If we take a graph $G$ and start a simulation, each time we come to an edge between a susceptible and an infected, we can choose a random number to determine whether the edge transmits.  We only do this at most once per edge.  So if we do the simulation in the straightforward way we'll get our result.\n",
    "\n",
    "On the other hand, if we do the simulation in a not-so-obvious way we should get the same result.  Imagine that instead of doing the straightforward approach, we visit every edge in advance and decide (with probability $p$) whether it will transmit or not should one of the nodes become infected.  We delete those edges that will not transmit.  Once these decisions are made, the outcome is pre-determined.  Once we choose the initial infection, we just follow the transmitting edges.\n",
    "\n",
    "Can we distinguish the outputs of these two simulations?  I claim you can't.  Each edge that gets a chance to transmit does so independently of all of the others with probability $p$.  [this may take a lot of reflection].\n",
    "\n",
    "The two algorithms produce identical outcomes.  However, in the second, it is clear that the disease will reach exactly those nodes that are in the same connected component in the graph after deleting edges as the initial infection.  It turns out that above the epidemic threshold, the largest component is much larger than the others.  It is called the **Giant Component** So an epidemic happens iff the initial infection is in the giant component (*that is* it happens with probability equal to the proportion of nodes in the largest component).  It infects all nodes in that component (*that is* the proportion infected if an epidemic happens equals the proportion of nodes in the giant component).  Thus they are equal.\n",
    "\n",
    "The calculation changes if the transmissions are not independent or there is some direction.  This happens, for example, when duration of infection varies: the transmissions $u \\to v$ and $u \\to w$ both depend on the duration of $u$'s infection, so they are not independent."
   ]
  },
  {
   "cell_type": "markdown",
   "metadata": {
    "deletable": true,
    "editable": true
   },
   "source": [
    "## Mathematical Models\n",
    "There have been many attempts to write down models that reproduce the dynamics of infection.\n",
    "\n",
    "These approaches somehow divide the population into $S$, $I$, and $R$ compartments.  These models are all derived in the Mathematics of Epidemics on Networks text.  \n",
    "\n",
    "Based on how we group the nodes or edges together, we are making claims that all the ones put together are somehow indistinguishable.  This is not generally true: if we put high and low degree individuals together, the high-degree individuals are infected first.\n",
    "\n",
    "We're going to do this for the continuous-time version.  Here is a simple example of a continuous time simulation.  We'd like to be able to predict the behavior.\n",
    "\n",
    "We're going to compare several differential equation models with simulations.  \n",
    "\n",
    "For a given graph, we would need to measure some properties and then use that to parameterize the model.  Luckily some fool put in the effort to [code up all of these models in EoN](https://epidemicsonnetworks.readthedocs.io/en/latest/EoN.html#analytic-toolkit), even to the point that you can feed it the graph and it will do all the remaining work for you.\n"
   ]
  },
  {
   "cell_type": "code",
   "execution_count": null,
   "metadata": {
    "collapsed": false,
    "deletable": true,
    "editable": true
   },
   "outputs": [],
   "source": [
    "import networkx as nx\n",
    "import EoN\n",
    "import matplotlib.pyplot as plt\n",
    "\n",
    "\n",
    "G = nx.configuration_model([1,5,10]*50000)\n",
    "N = G.order()\n",
    "\n",
    "tau = 0.3\n",
    "gamma = 1 #we can always assume gamma=1 because we can just change our \n",
    "          #unit of time.\n",
    "\n",
    "t, S, I, R = EoN.fast_SIR(G, tau, gamma, rho = 0.001)\n",
    "plt.plot(t,S, label='S')\n",
    "plt.plot(t,I, label='I')\n",
    "plt.plot(t,R, label='R')\n",
    "\n",
    "plt.legend()\n",
    "plt.show()"
   ]
  },
  {
   "cell_type": "markdown",
   "metadata": {
    "collapsed": true,
    "deletable": true,
    "editable": true
   },
   "source": [
    "\n",
    "### Mean-field\n",
    "\n",
    "[See chapter 4, in particular section 4.2 of Mathematics of Epidemics on Networks for a full derivation of this model, making explicit the assumptions.] \n",
    "\n",
    "In the mean-field model, we simply have $S$, $I$, and $R$ compartments.  \n",
    "\n",
    "The average degree $\\langle K\\rangle$.  \n",
    "We assume that\n",
    "- Infected individuals have the same average degee as everyone else, so the probability a random individual's partner is infected is $I/N$.\n",
    "- Susceptible individuals have average degree $\\langle K \\rangle$.\n",
    "- Thus susceptible individuals have on average $\\langle K \\rangle I/N$ infected neighbors, each transmitting with rate $\\tau$.  \n",
    "- Once infected, individuals recover with rate $\\gamma$.\n",
    "\n",
    "[can you see that there are issues with the assumption that average degree of susceptible and infected individuals is the population average?  Also can you see a problem with the assumption that the number of susceptible/infected interactions is what you would predict from just random mixing?]\n",
    "\n",
    "<img src=\"homogeneous_MF.png\" width=\"600\"/>\n",
    "\n",
    "The total flux from $S$ to $I$ is  $S \\frac{\\tau \\langle K \\rangle I}{N}$. \n",
    "\n",
    "The total flux from $I$ to $R$ is $\\gamma I$.\n",
    "\n",
    "\n",
    "This produces the model:\n",
    "\\begin{align*}\n",
    "\\frac{d}{dt} S &= - \\frac{ \\tau S I \\langle K \\rangle}{N}\\\\\n",
    "\\frac{d}{dt} I &= \\frac{ \\tau S I \\langle K \\rangle}{N} - \\gamma I\\\\\n",
    "\\frac{d}{dt} R &= \\gamma I\n",
    "\\end{align*}\n",
    "\n",
    "#### Comparison with simulation:\n",
    "\n",
    "In `EoN`, this is encoded in `EoN.SIR_homogeneous_meanfield`.  [Here is the documentation](https://epidemicsonnetworks.readthedocs.io/en/latest/functions/EoN.SIR_homogeneous_meanfield.html#EoN.SIR_homogeneous_meanfield).\n",
    "[I think this is the one example where `EoN` doesn't have a built in version to read in properties directly from the graph.  Luckily we just need the average degree, 4]\n",
    "\n",
    "We'll compare this with simulations in the three populations we've looked at earlier (each with average degree $4$): an Erdős–Rényi network, a Configuration Model network with all having exactly $4$, and a Configuration Model network with half having degree $1$ and half degree $7$.\n",
    "\n",
    "We'll set $\\tau = 0.5$ and $\\gamma = 1$.\n",
    "\n",
    "First we'll do an Erdős–Rényi network with average 4"
   ]
  },
  {
   "cell_type": "code",
   "execution_count": 1,
   "metadata": {
    "collapsed": false,
    "deletable": true,
    "editable": true,
    "scrolled": true
   },
   "outputs": [
    {
     "data": {
      "image/png": "[encoded data removed]",
      "text/plain": [
       "<matplotlib.figure.Figure at 0x108559e48>"
      ]
     },
     "metadata": {},
     "output_type": "display_data"
    }
   ],
   "source": [
    "import EoN\n",
    "import networkx as nx\n",
    "import matplotlib.pyplot as plt\n",
    "\n",
    "N=100000\n",
    "kave = 4\n",
    "tau = 0.5\n",
    "gamma = 1\n",
    "rho = 0.001 #initial proportion infected\n",
    "\n",
    "G = nx.fast_gnp_random_graph(N, kave/(N-1))\n",
    "\n",
    "t, S, I, R = EoN.fast_SIR(G, tau, gamma, rho = rho)\n",
    "\n",
    "calc_t, calc_S, calc_I, calc_R = EoN.SIR_homogeneous_meanfield(\n",
    "                                 N*(1-rho), rho*N, 0, kave, tau, gamma,\n",
    "                                 tmax = t[-1])\n",
    "\n",
    "plt.plot(t, I)\n",
    "plt.plot(calc_t, calc_I)\n",
    "plt.show()"
   ]
  },
  {
   "cell_type": "markdown",
   "metadata": {
    "deletable": true,
    "editable": true
   },
   "source": [
    "Now, that's not a very accurate prediction.  Maybe in the other graphs it is better?  Let's go ahead and do all 3 graphs at once (since the prediction is the same for all).  We'll do this by looping over the three graphs.\n",
    "\n"
   ]
  },
  {
   "cell_type": "code",
   "execution_count": null,
   "metadata": {
    "collapsed": false,
    "deletable": true,
    "editable": true
   },
   "outputs": [],
   "source": [
    "import EoN\n",
    "import networkx as nx\n",
    "import matplotlib.pyplot as plt\n",
    "\n",
    "plt.clf()\n",
    "\n",
    "N=100000\n",
    "kave = 4\n",
    "tau = 0.5\n",
    "gamma = 1\n",
    "rho = 0.001 #initial proportion infected\n",
    "\n",
    "tmax = 0  #to be fed to the differential equations model.  Need to find \n",
    "          #the maximum seen in the loop.\n",
    "    \n",
    "for G, label in [(nx.fast_gnp_random_graph(N, 4/(N-1)), 'ER'), \n",
    "              (nx.configuration_model([4]*N), 'all 4'),\n",
    "              (nx.configuration_model([1,7]*(N//2)), '1 and 7')]:\n",
    "    t, S, I, R = EoN.fast_SIR(G, tau, gamma, rho = rho)\n",
    "    plt.plot(t, I, label = label)\n",
    "    tmax = max(tmax, t[-1])\n",
    "\n",
    "calc_t, calc_S, calc_I, calc_R = EoN.SIR_homogeneous_meanfield(\n",
    "                                 N*(1-rho), rho*N, 0, kave, tau, gamma,\n",
    "                                 tmax = tmax)\n",
    "\n",
    "plt.plot(calc_t, calc_I, '-.', label = 'prediction')\n",
    "plt.legend()\n",
    "plt.axis(xmax=20)\n",
    "plt.show()\n"
   ]
  },
  {
   "cell_type": "markdown",
   "metadata": {
    "deletable": true,
    "editable": true
   },
   "source": [
    "That's just generally doing terribly as a fit, but maybe we can still learn something. \n",
    "\n",
    "> All models are wrong, but some are useful\n",
    "\n",
    "George Box\n",
    "\n",
    "Because this model is so simple, it is easy for us to understand what causes different phenomena.  So if we see similar phenomena in our simulations or in the real-world, we have a better understanding of why it happens.  [Think about what you learn below, and see how well you can get that same insight from to the more complex models]\n",
    "\n",
    "#### Peak prevalence\n",
    "\n",
    "The value of $I$ in our prediction grows, reaches a peak, and then decays.  We can predict exactly the condition for the peak, by setting $dI/dt=0$:\n",
    "\\begin{equation*}\n",
    "\\tau \\langle K \\rangle \\frac{S}{N} = \\gamma\n",
    "\\end{equation*}\n",
    "That is, the rate at which an infected node transmits disease to susceptible nodes balances the rate of recovery.  As the epidemic progresses, $S$ steadily decreases.  Once $S$ crosses the value for this equality, $I$ starts to decrease as well.\n",
    "\n",
    "\n",
    "#### Threshold prediction\n",
    "Now, let's try to understand the threshold.\n",
    "\n",
    "We are interested in whether the introduction of a small amount of infection can lead to growth.  Again from the $I$ equation, we have\n",
    "\\begin{equation*}\n",
    "\\frac{d}{dt} I = I \\left( \\tau \\langle K \\rangle \\frac{S}{N} - \\gamma\\right)\n",
    "\\end{equation*}\n",
    "We assume that early in the epidemic $S \\approx N$, so $S/N \\approx 1$.  Then the condition for whether invasion to be possible is\n",
    "\\begin{equation*}\n",
    "\\frac{\\tau \\langle K \\rangle}{\\gamma} > 1\n",
    "\\end{equation*}\n",
    "\n",
    "\n",
    "#### Model limitations\n",
    "The model gives us insights into what happens in an epidemic.  However, it has several shortcomings:\n",
    "- It ignores the fact that individuals have different numbers of partners, and in particular that infected individuals tend to have higher degree than susceptible individuals.\n",
    "- It ignores the fact that an individual who becomes infected has one less susceptible partner than its degree.\n",
    "- More subtley, it also ignores the fact that when an infected individual has transmitted, the number of susceptible partners it has decreases by $1$.  So in reality infected nodes disproportionately connect to infected nodes.\n",
    "\n",
    "We expect that heterogeneity in degree is likely to lead to the model under-predicting growth.  However, the other effects will tend to cause the model to over-predict growth.  So when we consider the implications for this model, we need to think about whether or not these effects are likely to be significant, and which are likely to be most important.\n",
    "\n",
    "In practice, this model will do quite well when the degrees are all similar, and the transmission probabilities are low.  If we have such a situation, and an epidemic happens, then we must also have reasonably high average degree.  When we have such a population, we expect this model to be reasonable."
   ]
  },
  {
   "cell_type": "markdown",
   "metadata": {
    "collapsed": true,
    "deletable": true,
    "editable": true
   },
   "source": [
    "\n",
    "### Heterogeneous mean-field\n",
    "\n",
    "[See Chapter 5 of Mathematics of Epidemics on Networks, particularly section 5.2]\n",
    "\n",
    "Our first attempt to improve the model will fix the assumption that all individuals have the same number of partners.  This is the heterogeneous mean-field model.  In this model, we group the susceptible, infected, and recovered individuals by degree.  \n",
    "\n",
    "<img src=\"heterogeneous_MF_revised.png\" width=\"600\"/>\n",
    "\n",
    "So for each $k$ we have\n",
    "\\begin{equation*}\n",
    "S_k, \\qquad I_k, \\qquad R_k\n",
    "\\end{equation*}\n",
    "to denote the total number of individuals of each status for each $k$.\n",
    "\n",
    "We introduce an additional variable\n",
    "\\begin{equation*}\n",
    "\\pi_I = \\frac{ \\sum_k k I_k}{\\sum_k k N_k}\n",
    "\\end{equation*}\n",
    "which is the proportion of all edges in the network that connect to infected individuals.  This is the probability a random individual's partner is infected (note, one could argue that the partner of a random susceptible individual is less likely to be infected than the partner of a random infected individual).\n",
    "\n",
    "The model is\n",
    "\\begin{align*}\n",
    "\\frac{d}{dt} S_k &= - \\tau \\pi_I k S_k\\\\\n",
    "\\frac{d}{dt} I_k &= \\tau \\pi_I k S_k - \\gamma I_k\\\\\n",
    "\\frac{d}{dt} R_k &= \\gamma I_k\\\\\n",
    "\\pi_I &= \\frac{\\sum_k k I_k}{\\sum_k k N_k}\n",
    "\\end{align*}\n",
    "\n",
    "#### Comparison with Simulation\n",
    "\n",
    "In `EoN`, this is encoded in `EoN.SIR_heterogeneous_meanfield`.  However, we will use the version `EoN.SIR_heterogeneous_meanfield_from_graph` which will read in the graph and measure it's properties and then call `EoN.SIR_heterogeneous_meanfield`.  [Here is the documentation](https://epidemicsonnetworks.readthedocs.io/en/latest/functions/EoN.SIR_heterogeneous_meanfield_from_graph.html#EoN.SIR_heterogeneous_meanfield_from_graph). \n",
    "\n",
    "Note that we have a different prediction for each graph."
   ]
  },
  {
   "cell_type": "code",
   "execution_count": null,
   "metadata": {
    "collapsed": false,
    "deletable": true,
    "editable": true
   },
   "outputs": [],
   "source": [
    "import EoN\n",
    "import networkx as nx\n",
    "import matplotlib.pyplot as plt\n",
    "\n",
    "plt.clf()\n",
    "\n",
    "N=100000\n",
    "kave = 4\n",
    "tau = 0.5\n",
    "gamma = 1\n",
    "rho = 0.001 #initial proportion infected\n",
    "\n",
    "tmax = 0  #to be fed to the differential equations model.  Need to find \n",
    "          #the maximum seen in the loop.\n",
    "    \n",
    "ax = plt.gca() #needed because I'm being a bit fancy to make the \n",
    "               #color of the prediction match the simulation.\n",
    "               #You can ignore this if you just\n",
    "               #remove the color stuff in the loop.\n",
    "        \n",
    "for G, label in [(nx.fast_gnp_random_graph(N, 4/(N-1)), 'ER'), \n",
    "              (nx.configuration_model([4]*N), 'all 4'),\n",
    "              (nx.configuration_model([1,7]*(N//2)), '1 and 7')]:\n",
    "    \n",
    "    color = next(ax._get_lines.prop_cycler)['color'] \n",
    "    #see https://stackoverflow.com/questions/28779559/how-to-set-same-color-for-markers-and-lines-in-a-matplotlib-plot-loop\n",
    "    #for an explanation of what's going on with this color stuff.\n",
    "    \n",
    "    t, S, I, R = EoN.fast_SIR(G, tau, gamma, rho = rho)\n",
    "    plt.plot(t, I, label = label, color = color)\n",
    "    tmax = max(tmax, t[-1])\n",
    "    calc_t, calc_S, calc_I, calc_R = EoN.SIR_heterogeneous_meanfield_from_graph(\n",
    "                                 G, tau, gamma, rho = rho, tmax = tmax)\n",
    "\n",
    "\n",
    "    plt.plot(calc_t, calc_I, '-.', label = 'prediction '+ label, color = color)\n",
    "plt.legend()\n",
    "plt.axis(xmax = 20)\n",
    "plt.show()\n"
   ]
  },
  {
   "cell_type": "markdown",
   "metadata": {
    "deletable": true,
    "editable": true
   },
   "source": [
    "Have we done better?  A bit.  We at least have our predictions being in the same order as the simulations.  But it's still pretty bad.  These models do better though, when the transmission probabilities are smaller (so that there is a weaker correlation between a node's status and that of its neighbors).\n",
    "\n",
    "We need to fix the assumption that $\\pi_I$ captures the probability a susceptible individual's neighbor is infected."
   ]
  },
  {
   "cell_type": "markdown",
   "metadata": {
    "deletable": true,
    "editable": true
   },
   "source": [
    "#### Threshold\n",
    "\n",
    "Before improving the model, let's look at the predicted threshold.  To do this, we'll write down a differential equation for $\\pi_I$ and decide whether $\\pi_I$ increases or decreases after the disease is introduced.\n",
    "\n",
    "\\begin{align*}\n",
    "\\frac{d}{dt} \\pi_I &= \\frac{\\sum_k k \\frac{d}{dt} I_k}{\\sum_k k N_k}\\\\\n",
    "&= \\frac{\\sum_k k \\left(\\tau \\pi_I k S_k - \\gamma I_k\\right)}{\\sum_k k N_k}\\\\\n",
    "&= \\frac{ \\pi_I \\tau \\sum_k k^2 S_k - \\gamma\\sum_k k I_k}{\\sum_k k N_k}\\\\\n",
    "&= \\frac{\\pi_I \\tau \\sum_k k^2 S_k}{\\sum_k k N_k} -  \\gamma \\pi_I\\\\\n",
    "&= \\pi_I \\left( \\frac{\\tau \\sum_k k^2 S_k}{\\sum_k k N_k} - \\gamma\\right)\n",
    "\\end{align*}\n",
    "Early in the epidemic, $S_k \\approx N_k$ and we have\n",
    "\\begin{equation*}\n",
    "\\frac{d}{dt} \\pi_I = \\pi_I \\left(\\tau \\frac{\\langle K^2 \\rangle}{\\langle K \\rangle}  - \\gamma\\right)\n",
    "\\end{equation*}\n",
    "and so we see that epidemics are predicted if\n",
    "\\begin{equation*}\n",
    "\\frac{\\tau}{\\gamma} \\frac{\\langle K^2 \\rangle}{\\langle K \\rangle}  > 1\n",
    "\\end{equation*}\n",
    "\n",
    "This should hopefully remind you of $R_0$ as we calculated earlier.  This expression is missing two pieces: the $- \\langle K \\rangle$ in the numerator, and the fraction $\\tau/\\gamma$ should be the transmission probability: $\\tau/(\\tau+\\gamma)$.  In the earlier derivation of $R_0$, we used the discrete time model.  It's perhaps not obvious that this is the right term in the continuous time model, but you may recall the analogy I did with the fish tank, from which we conclude that the probability that a transmission happens before a recovery is $\\tau/ (\\tau + \\gamma)$.\n",
    "\n",
    "The $-\\langle K \\rangle$ in the numerator that we had earlier relates to the fact that a node cannot transmit to its infector.  So we see clearly how ignoring that altered the threshold prediction.  The use of  $\\tau/(\\tau+\\gamma)$ captures the probability that an edge transmits before recovery, while $\\tau/\\gamma$ captures the expected number of transmissions before recovery (it allows for multiple transmissions along the same edge).  The model does not correct for the fact that a node cannot transmit twice (successfully) to the same node.  In essence, as soon as the transmission happens, it's like the neighbor is immediately traded out for another.  So our errors seem to stem from the fact that the model allows edges to transmit more than once.\n",
    "\n",
    "### Effective Degree models\n",
    "So we seem to have improved matters by tracking the heterogeneity in the population.  But we haven't yet included the fact that edges cannot transmit twice (in an SIR model).\n",
    "\n",
    "Our goal now is to track the exact number of susceptible and infected partners each infected individual has.  So we will use $S_{s,i}$ to denote the number of susceptible individuals with $s$ susceptible neighbors and $i$ infected neighbors.  We can summarize this with the following figure:\n",
    "\n",
    "<img src=\"Effective_Degree_SIR.png\" width=\"600\"/>\n",
    "\n",
    "In the figure, the notation $[ISS_{s,i}]$ denotes the number of ways you can find $3$ nodes such that an infected node is joined to a susceptible node who is joined to another susceptible node with $s$ susceptible and $i$ infected neighbors.  To calculate this, we find how many I-S-S triples there are, which is $\\sum_{m,n} mnS_{m,n}$.  The probability that the last triple is a susceptible individual with exactly $s$ susceptible neighbors and $i$ infected neighbors is equal to the proportion $\\frac{sS_{s,i}}{\\sum_{m,n} mS_{s,i}} $.\n",
    "\n",
    "The equations are\n",
    "\\begin{align*}\n",
    "\\frac{d}{dt} S_{s,i} &= \\tau [ISS_{s+1,i-1}] - \\gamma I S_{s,i} + \\gamma(i+1)S_{s,i+1} - \\tau[ISS_{s,i}] - \\tau i S_{s,i}\\\\\n",
    "\\dot{I} &= \\sum_{s,i} \\tau i S_{s,i}\\\\\n",
    "\\dot{R} &= \\gamma I\\\\\n",
    "[ISS_{s,i}] &= \\left(\\sum_{m,n} mnS_{m,n}\\right) \\frac{sS_{s,i}}{\\sum_{m,n} mS_{s,i}} \n",
    "\\end{align*}\n",
    "#### Comparison with simulations\n",
    "How well does this do?  To check, we'll use `EoN.SIR_effective_degree_from_graph`, whose [documentation is here](https://epidemicsonnetworks.readthedocs.io/en/latest/functions/EoN.SIR_effective_degree_from_graph.html)."
   ]
  },
  {
   "cell_type": "code",
   "execution_count": 22,
   "metadata": {
    "collapsed": false,
    "deletable": true,
    "editable": true
   },
   "outputs": [
    {
     "data": {
      "image/png": "[encoded data removed]",
      "text/plain": [
       "<matplotlib.figure.Figure at 0x15543e080>"
      ]
     },
     "metadata": {},
     "output_type": "display_data"
    }
   ],
   "source": [
    "import EoN\n",
    "import networkx as nx\n",
    "import matplotlib.pyplot as plt\n",
    "\n",
    "plt.clf()\n",
    "\n",
    "N=100000\n",
    "kave = 4\n",
    "tau = 0.5\n",
    "gamma = 1\n",
    "rho = 0.001 #initial proportion infected\n",
    "\n",
    "tmax = 0  #to be fed to the differential equations model.  Need to find \n",
    "          #the maximum seen in the loop.\n",
    "    \n",
    "ax = plt.gca() #needed because I'm being a bit fancy to make the \n",
    "               #color of the prediction match the simulation.\n",
    "               #You can ignore this if you just\n",
    "               #remove the color stuff in the loop.\n",
    "        \n",
    "for G, label in [(nx.fast_gnp_random_graph(N, 4/(N-1)), 'ER'), \n",
    "              (nx.configuration_model([4]*N), 'all 4'),\n",
    "              (nx.configuration_model([1,7]*(N//2)), '1 and 7')]:\n",
    "    \n",
    "    color = next(ax._get_lines.prop_cycler)['color'] \n",
    "    #see https://stackoverflow.com/questions/28779559/how-to-set-same-color-for-markers-and-lines-in-a-matplotlib-plot-loop\n",
    "    #for an explanation of what's going on with this color stuff.\n",
    "    \n",
    "    t, S, I, R = EoN.fast_SIR(G, tau, gamma, rho = rho)\n",
    "    plt.plot(t, I, label = label, color = color)\n",
    "    tmax = max(tmax, t[-1])\n",
    "    calc_t, calc_S, calc_I, calc_R = EoN.SIR_effective_degree_from_graph(\n",
    "                                 G, tau, gamma, rho = rho, tmax = tmax)\n",
    "\n",
    "\n",
    "    plt.plot(calc_t, calc_I, '-.', label = 'prediction '+ label, \n",
    "             color = color, linewidth = 8)\n",
    "plt.legend()\n",
    "plt.axis(xmax = 20)\n",
    "plt.show()"
   ]
  },
  {
   "cell_type": "markdown",
   "metadata": {
    "deletable": true,
    "editable": true
   },
   "source": [
    "That's not bad!  If you're interested, you can increase $N$ and see if the fit improves or not.\n",
    "\n",
    "In fact, it can be proven that these equations are exact in the limit of a large Configuration Model network.\n",
    "\n",
    "#### Threshold\n",
    "\n",
    "This is a lot harder to analyze, but it can be shown that the model predicts epidemics if\n",
    "\\begin{equation*}\n",
    "\\frac{\\tau}{\\tau+\\gamma} \\frac{\\langle K^2-K \\rangle}{\\langle K \\rangle} > 1\n",
    "\\end{equation*}\n",
    "If I recall, this can be done by proving that this is the condition for $[ISS]$ to be increasing.\n",
    "\n",
    "The models below are equivalent, and this result is much easier to prove for them."
   ]
  },
  {
   "cell_type": "markdown",
   "metadata": {
    "deletable": true,
    "editable": true
   },
   "source": [
    "\n",
    "\n",
    "\n",
    "\n",
    "## Under Construction\n",
    "\n",
    "I'm going to add 2 more models.  I'm not going to include them as part of the official lectures (though I may give an assignment question which helps you derive one of them).  I'm focusing on getting the SIS notes up now, and will return to these later.\n",
    "\n",
    "\n",
    "The next few models turn out to be equivalent  to the star-based version assuming a randomly selected initial set of infections.  Some use many more equations than others.  They are all able to accurately predict the dynamics on a Configuration Model Graph.\n",
    "\n",
    "\n",
    "\n",
    "\n",
    "\n",
    "### Pair-based\n",
    "\n",
    "#### Comp with sims\n",
    "\n",
    "#### Threshold\n",
    "\n",
    "### Edge-based Compartmental Model\n",
    "\n",
    "\n",
    "## Phase Transitions\n",
    "\n",
    "Physical systems often undergo significant changes in their behavior as some parameter (e.g., temperature) changes.\n",
    "\n",
    "Ice turns to liquid water at a threshold temperature.  Below that threshold, it is ice.  Above that threshold it is water.  It's not a continuous change - the properties change drastically.  This is known as a **first-order phase transition**.\n",
    "\n",
    "If you've made slime before, you have probably noticed a different transition.  A common recipe mixes Borax and glue.  The long branching molecules in the glue start to link up with others when Borax is present.  Not enough Borax, and the properties change smoothly --- perhaps it gets a little more viscous, but there's no gelling.  But there is a threshold where suddenly you start to see a behavior change.  But it's not dramatic like freezing/melting.  It starts to gel.  As you add more Borax, it gets firmer and firmer.  This is known as a **second-order phase transition**.  Physically what is happening is that below a threshold you see lots of small groups of linked molecules.  However, there is no large-scale connection.  Above the threshold, the connection density is high enough that chains of molecules span long distances, but many molecules are not part of these long chains.  As the Borax density increases, more and more molecules join these chains.\n",
    "\n",
    "So what does this have to do with SIR disease?  Let's start with the discrete SIR model (so transmissions occur independently with probability $p$).  We'll take a bunch of values of $p$ (which will be like the temperature or the Borax concentration above), and run some simulations for each.  Below the threshold we've already calculated, there will be no epidemics.  Above the threshold there will be epidemics.  We'll run simulations with a relatively large number, but small proportion of initial infections.\n"
   ]
  },
  {
   "cell_type": "code",
   "execution_count": null,
   "metadata": {
    "collapsed": false,
    "deletable": true,
    "editable": true
   },
   "outputs": [],
   "source": [
    "import networkx as nx\n",
    "import EoN\n",
    "import numpy as np\n",
    "\n",
    "N= 10000\n",
    "kave = 4\n",
    "G = nx.fast_gnp_random_graph(N, kave/(N-1))\n",
    "sizes = []\n",
    "ps = np.linspace(0, 1, 101)\n",
    "\n",
    "for p in ps:\n",
    "    t, S, I, R = EoN.basic_discrete_SIR(G, p, rho = 0.005)\n",
    "    sizes.append(R[-1]/N)\n",
    "    \n",
    "plt.plot(ps, sizes)\n",
    "plt.xlabel('$p$')\n",
    "plt.ylabel('Observed proportion')\n",
    "plt.show()"
   ]
  },
  {
   "cell_type": "markdown",
   "metadata": {
    "deletable": true,
    "editable": true
   },
   "source": [
    "This is a second order phase transition.  It becomes clearer if we increase $N$.  We're now going to redo this, but instead of using $p$ as the horizontal axis, we'll use $R_0$, and then we'll do the continuous-time version as well"
   ]
  },
  {
   "cell_type": "code",
   "execution_count": null,
   "metadata": {
    "collapsed": false,
    "deletable": true,
    "editable": true
   },
   "outputs": [],
   "source": [
    "import networkx as nx\n",
    "import EoN\n",
    "import numpy as np\n",
    "\n",
    "N= 10000\n",
    "kave = 4\n",
    "G = nx.fast_gnp_random_graph(N, kave/(N-1))\n",
    "discrete_sizes = []\n",
    "cts_sizes = []\n",
    "ps = np.linspace(0, 1, 101)\n",
    "\n",
    "Degs = [G.degree(node) for node in G]\n",
    "K_factor = sum( deg*deg - deg for deg in Degs)/sum(deg for deg in Degs)\n",
    "#K_factor = <K^2-K>/<K>\n",
    "\n",
    "R0s = [p*K_factor for p in ps]\n",
    "\n",
    "gamma = 1\n",
    "\n",
    "for p in ps:\n",
    "    print(p)\n",
    "    R0 = p*K_factor\n",
    "    t, S, I, R = EoN.basic_discrete_SIR(G, p, rho = 0.005)\n",
    "    discrete_sizes.append(R[-1]/N)\n",
    "\n",
    "    tau = (R0/K_factor)*gamma / (1- R0/K_factor) #divide by zero for the p=1 case\n",
    "    t, S, I, R = EoN.fast_SIR(G, tau, gamma, rho = 0.005)\n",
    "    cts_sizes.append(R[-1]/N)\n",
    "plt.plot(R0s, discrete_sizes, label = 'Discrete')\n",
    "plt.plot(R0s, cts_sizes, '-.', linewidth = 5, label = 'Continuous')\n",
    "plt.xlabel('$R_0$')\n",
    "plt.ylabel('Observed proportion')\n",
    "plt.legend()\n",
    "plt.show()"
   ]
  },
  {
   "cell_type": "markdown",
   "metadata": {
    "deletable": true,
    "editable": true
   },
   "source": [
    "Remarkably the final size appears to depend on $R_0$ but not on whether it is a continuous or discrete time model [**warning** the *probability* of an epidemic does vary depending on which model you use]\n",
    "\n",
    "The transition is at $R_0=1$.\n",
    "\n",
    "Let's redo this for the same networks we've been considering"
   ]
  },
  {
   "cell_type": "code",
   "execution_count": null,
   "metadata": {
    "collapsed": false,
    "deletable": true,
    "editable": true
   },
   "outputs": [],
   "source": [
    "import networkx as nx\n",
    "import EoN\n",
    "import numpy as np\n",
    "\n",
    "N= 10000\n",
    "\n",
    "gamma = 1\n",
    "ps = np.linspace(0,1,101)\n",
    "for G, label in [(nx.fast_gnp_random_graph(N, 4/(N-1)), 'ER'), \n",
    "              (nx.configuration_model([4]*N), 'all 4'),\n",
    "              (nx.configuration_model([1,7]*(N//2)), '1 and 7')]:\n",
    "    print(label)\n",
    "    discrete_sizes = []\n",
    "    cts_sizes = []\n",
    "\n",
    "    Degs = [G.degree(node) for node in G]\n",
    "    K_factor = sum( deg*deg - deg for deg in Degs)/sum(deg for deg in Degs)\n",
    "    #K_factor = <K^2-K>/<K>\n",
    "\n",
    "    R0s = [p*K_factor for p in ps]\n",
    "\n",
    "\n",
    "    for p in ps:\n",
    "        R0 = p*K_factor\n",
    "        t, S, I, R = EoN.basic_discrete_SIR(G, p, rho = 0.005)\n",
    "        discrete_sizes.append(R[-1]/N)\n",
    "\n",
    "        tau = (R0/K_factor)*gamma / (1- R0/K_factor) #divide by zero for the p=1 case\n",
    "        t, S, I, R = EoN.fast_SIR(G, tau, gamma, rho = 0.005)\n",
    "        cts_sizes.append(R[-1]/N)\n",
    "    plt.plot(R0s, discrete_sizes, label = 'Discrete '+label)\n",
    "    plt.plot(R0s, cts_sizes, '-.', linewidth = 5, label = 'Continuous '+label)\n",
    "\n",
    "\n",
    "plt.xlabel('$R_0$')\n",
    "plt.ylabel('Observed proportion')\n",
    "plt.legend()\n",
    "plt.show()"
   ]
  },
  {
   "cell_type": "markdown",
   "metadata": {
    "deletable": true,
    "editable": true
   },
   "source": [
    "So at $R_0=1$ a second-order phase transition occurs.  Note that in all cases the size from the discrete model and the continuous model match, but the different networks have different behaviors.\n",
    "\n",
    "Can you explain why we don't always have all nodes infected even at $p=1$ (the highest $R_0$ observed for each network)?"
   ]
  },
  {
   "cell_type": "code",
   "execution_count": null,
   "metadata": {
    "collapsed": true,
    "deletable": true,
    "editable": true
   },
   "outputs": [],
   "source": []
  }
 ],
 "metadata": {
  "kernelspec": {
   "display_name": "Python 3",
   "language": "python",
   "name": "python3"
  },
  "language_info": {
   "codemirror_mode": {
    "name": "ipython",
    "version": 3
   },
   "file_extension": ".py",
   "mimetype": "text/x-python",
   "name": "python",
   "nbconvert_exporter": "python",
   "pygments_lexer": "ipython3",
   "version": "3.5.2"
  }
 },
 "nbformat": 4,
 "nbformat_minor": 2
}
